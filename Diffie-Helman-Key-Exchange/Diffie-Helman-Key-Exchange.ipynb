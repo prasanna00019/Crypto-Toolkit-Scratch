{
 "cells": [
  {
   "cell_type": "markdown",
   "id": "08663aa8",
   "metadata": {},
   "source": [
    "# 🔐 Diffie-Hellman Key Exchange Demo\n",
    "\n",
    "This project demonstrates the **Diffie-Hellman Key Exchange** algorithm, implemented from scratch in Python using Jupyter Notebook. The code showcases how two parties (Alice and Bob) can securely generate a shared secret key over an insecure channel.\n",
    "\n",
    "## 🚀 Features\n",
    "\n",
    "- **Prime Number Generation:** Uses `sympy` to generate large prime numbers.\n",
    "- **Modular Exponentiation:** Efficient exponentiation by squaring.\n",
    "- **Step-by-Step Key Exchange:** Functions for Alice and Bob to compute their public and shared keys.\n",
    "- **Educational:** Clear, well-documented code for learning and experimentation.\n",
    "\n",
    "## 🛠️ How It Works\n",
    "\n",
    "1. **Prime and Generator Selection:**  \n",
    "    Large prime `p` and generator `g` are chosen.\n",
    "2. **Key Generation:**  \n",
    "    - Alice and Bob each select a private key.\n",
    "    - They compute their public keys using modular exponentiation.\n",
    "3. **Key Exchange:**  \n",
    "    - Alice and Bob exchange public keys.\n",
    "    - Both compute the shared secret using the other's public key and their own private key.\n",
    "\n",
    "## 📦 Dependencies\n",
    "\n",
    "- Python 3.x\n",
    "- [sympy](https://www.sympy.org/)\n",
    "\n",
    "## 📖 Usage\n",
    "\n",
    "Run the notebook cells in order to see the key exchange in action. You can modify the private keys or use larger primes for experimentation.\n",
    "\n",
    "## ✨ Built From Scratch\n",
    "\n",
    "All cryptographic logic and key exchange steps are implemented manually, without relying on external cryptography libraries.\n",
    "\n",
    "---\n",
    "\n",
    "Happy learning! 🧑‍💻🔑"
   ]
  },
  {
   "cell_type": "code",
   "execution_count": null,
   "id": "320c9276",
   "metadata": {},
   "outputs": [],
   "source": [
    "from sympy import randprime\n",
    "\n",
    "#  Generate Large Prime Numbers Using sympy\n",
    "def generate_large_prime(bits=512):\n",
    "    lower_bound = 2**(bits - 1)\n",
    "    upper_bound = 2**bits - 1\n",
    "    return randprime(lower_bound, upper_bound)\n",
    "\n",
    "# Modular Exponentiation (x^y mod p) using Exponentiation by Squaring\n",
    "def mod_exp(base, exp, mod):\n",
    "    result = 1\n",
    "    while exp > 0:\n",
    "        if exp % 2 == 1:  # If exponent is odd\n",
    "            result = (result * base) % mod\n",
    "        base = (base * base) % mod\n",
    "        exp //= 2\n",
    "    return result\n",
    "def alice_compute(g,p):\n",
    "    a=134;\n",
    "    A=mod_exp(g,a,p)\n",
    "    return A;\n",
    "def bob_computes(g,p):\n",
    "    b=345;\n",
    "    B=mod_exp(g,b,p);\n",
    "    return B;\n",
    "def key_computed_by_alice(g,p):\n",
    "    a=134;\n",
    "    B=bob_computes(g,p);\n",
    "    A_prime=mod_exp(B,a,p)\n",
    "    print(\"the key for alice as computed by him is: \",A_prime);\n",
    "def key_computed_by_bob(g,p):\n",
    "    b=345;\n",
    "    A=alice_compute(g,p);\n",
    "    B_prime=mod_exp(A,b,p);\n",
    "    print(\"the key for bob as computed by him is: \",B_prime);"
   ]
  },
  {
   "cell_type": "code",
   "execution_count": 3,
   "id": "628d7a8f",
   "metadata": {},
   "outputs": [
    {
     "name": "stdout",
     "output_type": "stream",
     "text": [
      "the key for alice as computed by him is:  58210\n",
      "the key for bob as computed by him is:  58210\n"
     ]
    }
   ],
   "source": [
    "g=103022\n",
    "p=104729 \n",
    "key_computed_by_alice(g,p);\n",
    "key_computed_by_bob(g,p);"
   ]
  }
 ],
 "metadata": {
  "kernelspec": {
   "display_name": "Python 3",
   "language": "python",
   "name": "python3"
  },
  "language_info": {
   "codemirror_mode": {
    "name": "ipython",
    "version": 3
   },
   "file_extension": ".py",
   "mimetype": "text/x-python",
   "name": "python",
   "nbconvert_exporter": "python",
   "pygments_lexer": "ipython3",
   "version": "3.13.2"
  }
 },
 "nbformat": 4,
 "nbformat_minor": 5
}
