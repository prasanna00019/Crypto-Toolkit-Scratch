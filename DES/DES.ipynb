{
 "cells": [
  {
   "cell_type": "code",
   "execution_count": null,
   "id": "82b67d77-d082-493a-a38f-26c3021ed88c",
   "metadata": {},
   "outputs": [
    {
     "name": "stdout",
     "output_type": "stream",
     "text": [
      "30313233343536373839414243444546\n"
     ]
    }
   ],
   "source": [
    "#DES ENCRYPTION AND DECRYPTION \n",
    "def string_to_padded_hex(s):\n",
    "    hex_string = s.encode('utf-8').hex()  # Convert string to hex\n",
    "    hex_length = len(hex_string)\n",
    "    \n",
    "    # Each character in hex represents 4 bits, so 64 bits = 16 hex characters\n",
    "    remainder = hex_length % 16\n",
    "    if remainder != 0:\n",
    "        padding_needed = 16 - remainder\n",
    "        hex_string = hex_string.ljust(hex_length + padding_needed, '0')  # Pad with 0s\n",
    "    \n",
    "    return hex_string\n",
    "\n",
    "text = \"0123456789ABCDEF\"\n",
    "hex_output = string_to_padded_hex(text)\n",
    "print(hex_output)"
   ]
  },
  {
   "cell_type": "code",
   "execution_count": null,
   "id": "c6053e2e-4090-4422-8705-e78b353c573a",
   "metadata": {},
   "outputs": [
    {
     "name": "stdout",
     "output_type": "stream",
     "text": [
      "00000001001000110100010101100111 10001001101010111100110111101111\n",
      "32 32\n",
      "0000000100100011010001010110011110001001101010111100110111101111\n"
     ]
    }
   ],
   "source": [
    "def Message_split(hex_string):\n",
    "    if len(hex_string) != 16:\n",
    "        raise ValueError(\"Input hex string must be exactly 16 characters (64 bits).\")\n",
    "    \n",
    "    # Convert hex to binary and remove the '0b' prefix\n",
    "    binary_string = bin(int(hex_string, 16))[2:]\n",
    "    \n",
    "    # Ensure it's exactly 64 bits (pad with leading zeros if necessary)\n",
    "    a=binary_string.zfill(64)\n",
    "    return a[0:32],a[32:]\n",
    "hex_input = text  # Hex representation of 'Hello' with padding\n",
    "a,b = Message_split(hex_input)\n",
    "print(a,b)\n",
    "print(len(a),len(b))\n",
    "print(a+b)"
   ]
  },
  {
   "cell_type": "code",
   "execution_count": 240,
   "id": "6f60b552-6e89-4722-8942-12af1e1e2577",
   "metadata": {},
   "outputs": [
    {
     "name": "stdout",
     "output_type": "stream",
     "text": [
      "1111000011001100101010101111 0101010101100110011110001111\n"
     ]
    }
   ],
   "source": [
    "PC1=[         57 ,  49  ,  41 ,  33   , 25  ,  17  ,  9,\n",
    "               1 ,  58   , 50 ,  42   , 34  ,  26  , 18,\n",
    "              10 ,   2   , 59 ,  51   , 43  ,  35  , 27,\n",
    "              19  , 11   ,  3  , 60   , 52  ,  44  , 36,\n",
    "              63  , 55   , 47  , 39   , 31  ,  23  , 15,\n",
    "               7  , 62   , 54  , 46   , 38  ,  30  , 22,\n",
    "              14  ,  6   , 61  , 53  ,  45  ,  37  , 29,\n",
    "              21  , 13    , 5  , 28  ,  20  ,  12  ,  4,\n",
    "]\n",
    "# print(len(PC1))\n",
    "def Key(hex_string):\n",
    "    if len(hex_string) != 16:\n",
    "        raise ValueError(\"Input hex string must be exactly 16 characters (64 bits).\")\n",
    "    # Convert hex to binary and remove the '0b' prefix\n",
    "    binary_string = bin(int(hex_string, 16))[2:].zfill(64)\n",
    "    permuted_56 = ''.join(binary_string[i - 1] for i in PC1)\n",
    "    return permuted_56[0:28],permuted_56[28:]\n",
    "C0,D0=Key(\"133457799BBCDFF1\")    \n",
    "print(C0,D0)"
   ]
  },
  {
   "cell_type": "code",
   "execution_count": 47,
   "id": "a8abd392-4887-4820-9d12-7debec4e7e7b",
   "metadata": {},
   "outputs": [],
   "source": [
    "left_shift_arr = [\n",
    "    1, 1, 2, 2, 2, 2, 2, 2,\n",
    "    1, 2, 2, 2, 2, 2, 2, 1\n",
    "]"
   ]
  },
  {
   "cell_type": "code",
   "execution_count": 48,
   "id": "2a9ee748-8596-47fd-9777-f9b50ceafda9",
   "metadata": {},
   "outputs": [],
   "source": [
    "def left_shift(binary_str, shift_amount):\n",
    "    shift_amount %= len(binary_str)  # Ensure shift doesn't exceed length\n",
    "    return binary_str[shift_amount:] + binary_str[:shift_amount]"
   ]
  },
  {
   "cell_type": "code",
   "execution_count": 84,
   "id": "2e4fd613-e431-4edf-9b3e-d2e3f252278d",
   "metadata": {},
   "outputs": [
    {
     "name": "stdout",
     "output_type": "stream",
     "text": [
      "['11100001100110010101010111111010101011001100111100011110', '11000011001100101010101111110101010110011001111000111101', '00001100110010101010111111110101011001100111100011110101', '00110011001010101011111111000101100110011110001111010101', '11001100101010101111111100000110011001111000111101010101', '00110010101010111111110000111001100111100011110101010101', '11001010101011111111000011000110011110001111010101010110', '00101010101111111100001100111001111000111101010101011001', '01010101011111111000011001100011110001111010101010110011', '01010101111111100001100110011111000111101010101011001100', '01010111111110000110011001011100011110101010101100110011', '01011111111000011001100101010001111010101010110011001111', '01111111100001100110010101010111101010101011001100111100', '11111110000110011001010101011110101010101100110011110001', '11111000011001100101010101111010101010110011001111000111', '11110000110011001010101011110101010101100110011110001111']\n"
     ]
    }
   ],
   "source": [
    "def generate_C1_to_C16(C0, D0):\n",
    "    C = []  # Initialize an empty list\n",
    "    # C.append(C0+D0)\n",
    "    for i in range(16):\n",
    "        if i == 0:\n",
    "            new_C = left_shift(C0, left_shift_arr[i]) + left_shift(D0, left_shift_arr[i])\n",
    "        else:\n",
    "            new_C = left_shift(C[i - 1][:28], left_shift_arr[i]) + left_shift(C[i - 1][28:], left_shift_arr[i])\n",
    "        C.append(new_C) \n",
    "    return C\n",
    "C=generate_C1_to_C16(C0,D0)\n",
    "print(C)"
   ]
  },
  {
   "cell_type": "code",
   "execution_count": 85,
   "id": "f01272ee-061d-44a9-b20c-baeb5162968b",
   "metadata": {},
   "outputs": [],
   "source": [
    "PC2 = [\n",
    "    14, 17, 11, 24,  1,  5,\n",
    "     3, 28, 15,  6, 21, 10,\n",
    "    23, 19, 12,  4, 26,  8,\n",
    "    16,  7, 27, 20, 13,  2,\n",
    "    41, 52, 31, 37, 47, 55,\n",
    "    30, 40, 51, 45, 33, 48,\n",
    "    44, 49, 39, 56, 34, 53,\n",
    "    46, 42, 50, 36, 29, 32\n",
    "]\n",
    "# print(len(PC2))"
   ]
  },
  {
   "cell_type": "code",
   "execution_count": 92,
   "id": "b7ec7ffb-8909-4778-bd8c-b85b311c98c2",
   "metadata": {},
   "outputs": [],
   "source": [
    "def apply_permutation(binary_string, permutation_table):\n",
    "    return ''.join(binary_string[i - 1] for i in permutation_table)"
   ]
  },
  {
   "cell_type": "code",
   "execution_count": 105,
   "id": "a1b7c920-de37-44f7-adcc-d255a2ac1c40",
   "metadata": {},
   "outputs": [],
   "source": [
    "def generate_K1_to_K16(C):\n",
    "    K=[]\n",
    "    key_i=\"\"\n",
    "    for i in range(16):\n",
    "        key_i+= apply_permutation(C[i],PC2)\n",
    "        K.append(key_i)\n",
    "        key_i=\"\"\n",
    "    return K   \n",
    "K=generate_K1_to_K16(C)"
   ]
  },
  {
   "cell_type": "code",
   "execution_count": 107,
   "id": "39c2f4da-f3f8-45e2-802e-bf2ae125b140",
   "metadata": {},
   "outputs": [
    {
     "name": "stdout",
     "output_type": "stream",
     "text": [
      "['000110110000001011101111111111000111000001110010', '011110011010111011011001110110111100100111100101', '010101011111110010001010010000101100111110011001', '011100101010110111010110110110110011010100011101', '011111001110110000000111111010110101001110101000', '011000111010010100111110010100000111101100101111', '111011001000010010110111111101100001100010111100', '111101111000101000111010110000010011101111111011', '111000001101101111101011111011011110011110000001', '101100011111001101000111101110100100011001001111', '001000010101111111010011110111101101001110000110', '011101010111000111110101100101000110011111101001', '100101111100010111010001111110101011101001000001', '010111110100001110110111111100101110011100111010', '101111111001000110001101001111010011111100001010', '110010110011110110001011000011100001011111110101']\n"
     ]
    }
   ],
   "source": [
    "print(K)\n",
    "# print(len(K))"
   ]
  },
  {
   "cell_type": "code",
   "execution_count": 113,
   "id": "60c36c01-0a4f-4538-9af6-2d6a792defa8",
   "metadata": {},
   "outputs": [],
   "source": [
    "IP_table = [\n",
    "    58, 50, 42, 34, 26, 18, 10,  2,\n",
    "    60, 52, 44, 36, 28, 20, 12,  4,\n",
    "    62, 54, 46, 38, 30, 22, 14,  6,\n",
    "    64, 56, 48, 40, 32, 24, 16,  8,\n",
    "    57, 49, 41, 33, 25, 17,  9,  1,\n",
    "    59, 51, 43, 35, 27, 19, 11,  3,\n",
    "    61, 53, 45, 37, 29, 21, 13,  5,\n",
    "    63, 55, 47, 39, 31, 23, 15,  7\n",
    "]\n"
   ]
  },
  {
   "cell_type": "code",
   "execution_count": 114,
   "id": "3ad10740-2814-41b9-bf45-aa82d8a33e57",
   "metadata": {},
   "outputs": [
    {
     "name": "stdout",
     "output_type": "stream",
     "text": [
      "1100110000000000110011001111111111110000101010101111000010101010\n",
      "64\n"
     ]
    }
   ],
   "source": [
    "IP_string=apply_permutation(a+b,IP_table)\n",
    "print(IP_string)\n",
    "# print(len(IP_string))"
   ]
  },
  {
   "cell_type": "code",
   "execution_count": 118,
   "id": "45c051e7-5955-4642-af41-f4a0dc849807",
   "metadata": {},
   "outputs": [],
   "source": [
    "L0=IP_string[0:32]\n",
    "R0=IP_string[32:]"
   ]
  },
  {
   "cell_type": "code",
   "execution_count": 197,
   "id": "cb79abae-7852-4bce-ab48-e5443ec58dbe",
   "metadata": {},
   "outputs": [],
   "source": [
    "E_bit = [\n",
    "    32,  1,  2,  3,  4,  5,\n",
    "     4,  5,  6,  7,  8,  9,\n",
    "     8,  9, 10, 11, 12, 13,\n",
    "    12, 13, 14, 15, 16, 17,\n",
    "    16, 17, 18, 19, 20, 21,\n",
    "    20, 21, 22, 23, 24, 25,\n",
    "    24, 25, 26, 27, 28, 29,\n",
    "    28, 29, 30, 31, 32,  1\n",
    "]\n",
    "S_boxes = [\n",
    "    # S1\n",
    "    [\n",
    "        [14,  4, 13,  1,  2, 15, 11,  8,  3, 10,  6, 12,  5,  9,  0,  7],\n",
    "        [ 0, 15,  7,  4, 14,  2, 13,  1, 10,  6, 12, 11,  9,  5,  3,  8],\n",
    "        [ 4,  1, 14,  8, 13,  6,  2, 11, 15, 12,  9,  7,  3, 10,  5,  0],\n",
    "        [15, 12,  8,  2,  4,  9,  1,  7,  5, 11,  3, 14, 10,  0,  6, 13]\n",
    "    ],\n",
    "    # S2\n",
    "    [\n",
    "        [15,  1,  8, 14,  6, 11,  3,  4,  9,  7,  2, 13, 12,  0,  5, 10],\n",
    "        [ 3, 13,  4,  7, 15,  2,  8, 14, 12,  0,  1, 10,  6,  9, 11,  5],\n",
    "        [ 0, 14,  7, 11, 10,  4, 13,  1,  5,  8, 12,  6,  9,  3,  2, 15],\n",
    "        [13,  8, 10,  1,  3, 15,  4,  2, 11,  6,  7, 12,  0,  5, 14,  9]\n",
    "    ],\n",
    "    # S3\n",
    "    [\n",
    "        [10,  0,  9, 14,  6,  3, 15,  5,  1, 13, 12,  7, 11,  4,  2,  8],\n",
    "        [13,  7,  0,  9,  3,  4,  6, 10,  2,  8,  5, 14, 12, 11, 15,  1],\n",
    "        [13,  6,  4,  9,  8, 15,  3,  0, 11,  1,  2, 12,  5, 10, 14,  7],\n",
    "        [ 1, 10, 13,  0,  6,  9,  8,  7,  4, 15, 14,  3, 11,  5,  2, 12]\n",
    "    ],\n",
    "    # S4\n",
    "    [\n",
    "        [ 7, 13, 14,  3,  0,  6,  9, 10,  1,  2,  8,  5, 11, 12,  4, 15],\n",
    "        [13,  8, 11,  5,  6, 15,  0,  3,  4,  7,  2, 12,  1, 10, 14,  9],\n",
    "        [10,  6,  9,  0, 12, 11,  7, 13, 15,  1,  3, 14,  5,  2,  8,  4],\n",
    "        [ 3, 15,  0,  6, 10,  1, 13,  8,  9,  4,  5, 11, 12,  7,  2, 14]\n",
    "    ],\n",
    "    # S5\n",
    "    [\n",
    "        [ 2, 12,  4,  1,  7, 10, 11,  6,  8,  5,  3, 15, 13,  0, 14,  9],\n",
    "        [14, 11,  2, 12,  4,  7, 13,  1,  5,  0, 15, 10,  3,  9,  8,  6],\n",
    "        [ 4,  2,  1, 11, 10, 13,  7,  8, 15,  9, 12,  5,  6,  3,  0, 14],\n",
    "        [11,  8, 12,  7,  1, 14,  2, 13,  6, 15,  0,  9, 10,  4,  5,  3]\n",
    "    ],\n",
    "    # S6\n",
    "    [\n",
    "        [12,  1, 10, 15,  9,  2,  6,  8,  0, 13,  3,  4, 14,  7,  5, 11],\n",
    "        [10, 15,  4,  2,  7, 12,  9,  5,  6,  1, 13, 14,  0, 11,  3,  8],\n",
    "        [ 9, 14, 15,  5,  2,  8, 12,  3,  7,  0,  4, 10,  1, 13, 11,  6],\n",
    "        [ 4,  3,  2, 12,  9,  5, 15, 10, 11, 14,  1,  7,  6,  0,  8, 13]\n",
    "    ],\n",
    "    # S7\n",
    "    [\n",
    "        [ 4, 11,  2, 14, 15,  0,  8, 13,  3, 12,  9,  7,  5, 10,  6,  1],\n",
    "        [13,  0, 11,  7,  4,  9,  1, 10, 14,  3,  5, 12,  2, 15,  8,  6],\n",
    "        [ 1,  4, 11, 13, 12,  3,  7, 14, 10, 15,  6,  8,  0,  5,  9,  2],\n",
    "        [ 6, 11, 13,  8,  1,  4, 10,  7,  9,  5,  0, 15, 14,  2,  3, 12]\n",
    "    ],\n",
    "    # S8\n",
    "    [\n",
    "        [13,  2,  8,  4,  6, 15, 11,  1, 10,  9,  3, 14,  5,  0, 12,  7],\n",
    "        [ 1, 15, 13,  8, 10,  3,  7,  4, 12,  5,  6, 11,  0, 14,  9,  2],\n",
    "        [ 7, 11,  4,  1,  9, 12, 14,  2,  0,  6, 10, 13, 15,  3,  5,  8],\n",
    "        [ 2,  1, 14,  7,  4, 10,  8, 13, 15, 12,  9,  0,  3,  5,  6, 11]\n",
    "    ]\n",
    "]\n",
    "P_after_sbox = [\n",
    "    16,  7, 20, 21,\n",
    "    29, 12, 28, 17,\n",
    "     1, 15, 23, 26,\n",
    "     5, 18, 31, 10,\n",
    "     2,  8, 24, 14,\n",
    "    32, 27,  3,  9,\n",
    "    19, 13, 30,  6,\n",
    "    22, 11,  4, 25\n",
    "]\n",
    "IP_inv = [\n",
    "    40,  8, 48, 16, 56, 24, 64, 32,\n",
    "    39,  7, 47, 15, 55, 23, 63, 31,\n",
    "    38,  6, 46, 14, 54, 22, 62, 30,\n",
    "    37,  5, 45, 13, 53, 21, 61, 29,\n",
    "    36,  4, 44, 12, 52, 20, 60, 28,\n",
    "    35,  3, 43, 11, 51, 19, 59, 27,\n",
    "    34,  2, 42, 10, 50, 18, 58, 26,\n",
    "    33,  1, 41,  9, 49, 17, 57, 25\n",
    "]"
   ]
  },
  {
   "cell_type": "code",
   "execution_count": 229,
   "id": "a96e6300-d817-4119-80b6-42364b7e18cf",
   "metadata": {},
   "outputs": [],
   "source": [
    "def S_func_i(B_i,S_i):\n",
    "    row=int(B_i[0]+B_i[5],2)\n",
    "    column=int(B_i[1:5],2)\n",
    "    return bin(S_i[row][column])[2:].zfill(4)"
   ]
  },
  {
   "cell_type": "code",
   "execution_count": 231,
   "id": "d4fdd136-11ed-48ed-900c-a551a6092097",
   "metadata": {},
   "outputs": [],
   "source": [
    "def f_func(Rn_1, Kn,Ln_1):\n",
    "    E_Rn_1 = apply_permutation(Rn_1, E_bit)\n",
    "    xor_result = bin(int(E_Rn_1, 2) ^ int(Kn, 2))[2:].zfill(len(E_Rn_1))\n",
    "    S_box_temp=\"\"\n",
    "    for i in range(0,len(xor_result),6):\n",
    "      S_box_temp+=S_func_i(xor_result[i:i+6],S_boxes[i//6])\n",
    "    f=apply_permutation(S_box_temp,P_after_sbox)\n",
    "    return f;"
   ]
  },
  {
   "cell_type": "code",
   "execution_count": 233,
   "id": "f53703e3-5280-466a-a79e-05d56994016b",
   "metadata": {
    "scrolled": true
   },
   "outputs": [
    {
     "name": "stdout",
     "output_type": "stream",
     "text": [
      "1000010111101000000100110101010000001111000010101011010000000101\n"
     ]
    }
   ],
   "source": [
    "def DES_encrypt(L0,R0):\n",
    "  L,R=[],[]\n",
    "  for i in range(16):\n",
    "      # print(i)\n",
    "      if(i==0):\n",
    "        # pass  \n",
    "        L.append(bin(int(R0,2))[2:].zfill(32))\n",
    "        R.append(bin(int(L0,2)^int(f_func(R0,K[0],L0),2))[2:].zfill(32))  \n",
    "      else:\n",
    "        # pass  \n",
    "        L.append(R[i-1])\n",
    "        R.append(bin( int(L[i-1],2) ^ int(f_func(R[i-1],K[i],L[i-1]),2))[2:].zfill(32))  \n",
    "  return   apply_permutation(R[15]+L[15],IP_inv)       \n",
    "a=DES_encrypt(L0,R0)\n",
    "print(a)\n"
   ]
  },
  {
   "cell_type": "code",
   "execution_count": 235,
   "id": "2e04c200-b210-4167-b1cf-cefd94a3dfd3",
   "metadata": {},
   "outputs": [],
   "source": [
    "def binary_to_hex(binary_string):\n",
    "    # Ensure the binary string length is a multiple of 4 by padding with leading zeros\n",
    "    binary_string = binary_string.zfill((len(binary_string) + 3) // 4 * 4)\n",
    "    \n",
    "    # Convert binary to hexadecimal\n",
    "    hex_string = hex(int(binary_string, 2))[2:].upper()\n",
    "    \n",
    "    return hex_string"
   ]
  },
  {
   "cell_type": "code",
   "execution_count": 273,
   "id": "2d2cd98b-af5f-4f4a-bd9f-8160beadb0ea",
   "metadata": {},
   "outputs": [
    {
     "name": "stdout",
     "output_type": "stream",
     "text": [
      "8EE3658640B9CE04\n"
     ]
    }
   ],
   "source": [
    "def generalized_DES_encrypt(input,key):\n",
    "    a,b=Message_split(input)\n",
    "    C0,D0=Key(key)\n",
    "    C=generate_C1_to_C16(C0,D0)\n",
    "    K=generate_K1_to_K16(C)\n",
    "    IP_string=apply_permutation(a+b,IP_table)\n",
    "    L0=IP_string[0:32]\n",
    "    R0=IP_string[32:]\n",
    "    a=DES_encrypt(L0,R0)\n",
    "    return binary_to_hex(a)\n",
    "cipher_text=generalized_DES_encrypt(\"123456789ABCDEE9\",\"133457799BBCDFF1\")    \n",
    "print(cipher_text)"
   ]
  },
  {
   "cell_type": "code",
   "execution_count": 266,
   "id": "ba383cf4-0d56-49a4-8095-30c4a32b0f6e",
   "metadata": {},
   "outputs": [],
   "source": [
    "K1=K[::-1]"
   ]
  },
  {
   "cell_type": "code",
   "execution_count": 267,
   "id": "d7092479-6728-4827-acff-26878cc0ee74",
   "metadata": {},
   "outputs": [],
   "source": [
    "def DES_decrypt(L0,R0):\n",
    "  L,R=[],[]\n",
    "  for i in range(16):\n",
    "      # print(i)\n",
    "      if(i==0):\n",
    "        # pass  \n",
    "        L.append(bin(int(R0,2))[2:].zfill(32))\n",
    "        R.append(bin(int(L0,2)^int(f_func(R0,K1[0],L0),2))[2:].zfill(32))  \n",
    "      else:\n",
    "        # pass  \n",
    "        L.append(R[i-1])\n",
    "        R.append(bin( int(L[i-1],2) ^ int(f_func(R[i-1],K1[i],L[i-1]),2))[2:].zfill(32))  \n",
    "  return   apply_permutation(R[15]+L[15],IP_inv)      "
   ]
  },
  {
   "cell_type": "code",
   "execution_count": 274,
   "id": "0ee19142-38a7-481a-a9fd-6adf9e5f688a",
   "metadata": {},
   "outputs": [
    {
     "name": "stdout",
     "output_type": "stream",
     "text": [
      "123456789ABCDEE9\n"
     ]
    }
   ],
   "source": [
    "def generalized_DES_decrypt(ciphertext, key):\n",
    "    a, b = Message_split(ciphertext)  # Convert hex input to binary\n",
    "    C0, D0 = Key(key)  \n",
    "    C = generate_C1_to_C16(C0, D0)  \n",
    "    K = generate_K1_to_K16(C)  # Generate 16 subkeys\n",
    "    # print(len(K))\n",
    "    # K1=K[::-1]\n",
    "    IP_string = apply_permutation(a + b, IP_table)  \n",
    "    L0 = IP_string[0:32]  \n",
    "    R0 = IP_string[32:]  \n",
    "    # Reverse key order for decryption\n",
    "    decrypted_binary = DES_decrypt(L0, R0)  \n",
    "    return binary_to_hex(decrypted_binary)  \n",
    "plaintext = generalized_DES_decrypt(cipher_text, \"133457799BBCDFF1\")  \n",
    "print(plaintext)  "
   ]
  }
 ],
 "metadata": {
  "kernelspec": {
   "display_name": "Python 3 (ipykernel)",
   "language": "python",
   "name": "python3"
  },
  "language_info": {
   "codemirror_mode": {
    "name": "ipython",
    "version": 3
   },
   "file_extension": ".py",
   "mimetype": "text/x-python",
   "name": "python",
   "nbconvert_exporter": "python",
   "pygments_lexer": "ipython3",
   "version": "3.11.4"
  }
 },
 "nbformat": 4,
 "nbformat_minor": 5
}
