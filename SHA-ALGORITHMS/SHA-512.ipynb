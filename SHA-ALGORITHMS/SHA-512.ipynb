{
 "cells": [
  {
   "cell_type": "code",
   "execution_count": 1,
   "id": "af60e067-0e18-451b-9f99-df71c2211c55",
   "metadata": {},
   "outputs": [],
   "source": [
    "H0 = 0x6a09e667f3bcc908\n",
    "H1 = 0xbb67ae8584caa73b\n",
    "H2 = 0x3c6ef372fe94f82b\n",
    "H3 = 0xa54ff53a5f1d36f1\n",
    "H4 = 0x510e527fade682d1\n",
    "H5 = 0x9b05688c2b3e6c1f\n",
    "H6 = 0x1f83d9abfb41bd6b\n",
    "H7 = 0x5be0cd19137e2179"
   ]
  },
  {
   "cell_type": "code",
   "execution_count": 2,
   "id": "85a52f94-c67d-43d3-8c99-c28a1a8408b3",
   "metadata": {},
   "outputs": [],
   "source": [
    "K = [\n",
    "    0x428a2f98d728ae22, 0x7137449123ef65cd, 0xb5c0fbcfec4d3b2f, 0xe9b5dba58189dbbc,\n",
    "    0x3956c25bf348b538, 0x59f111f1b605d019, 0x923f82a4af194f9b, 0xab1c5ed5da6d8118,\n",
    "    0xd807aa98a3030242, 0x12835b0145706fbe, 0x243185be4ee4b28c, 0x550c7dc3d5ffb4e2,\n",
    "    0x72be5d74f27b896f, 0x80deb1fe3b1696b1, 0x9bdc06a725c71235, 0xc19bf174cf692694,\n",
    "    0xe49b69c19ef14ad2, 0xefbe4786384f25e3, 0x0fc19dc68b8cd5b5, 0x240ca1cc77ac9c65,\n",
    "    0x2de92c6f592b0275, 0x4a7484aa6ea6e483, 0x5cb0a9dcbd41fbd4, 0x76f988da831153b5,\n",
    "    0x983e5152ee66dfab, 0xa831c66d2db43210, 0xb00327c898fb213f, 0xbf597fc7beef0ee4,\n",
    "    0xc6e00bf33da88fc2, 0xd5a79147930aa725, 0x06ca6351e003826f, 0x142929670a0e6e70,\n",
    "    0x27b70a8546d22ffc, 0x2e1b21385c26c926, 0x4d2c6dfc5ac42aed, 0x53380d139d95b3df,\n",
    "    0x650a73548baf63de, 0x766a0abb3c77b2a8, 0x81c2c92e47edaee6, 0x92722c851482353b,\n",
    "    0xa2bfe8a14cf10364, 0xa81a664bbc423001, 0xc24b8b70d0f89791, 0xc76c51a30654be30,\n",
    "    0xd192e819d6ef5218, 0xd69906245565a910, 0xf40e35855771202a, 0x106aa07032bbd1b8,\n",
    "    0x19a4c116b8d2d0c8, 0x1e376c085141ab53, 0x2748774cdf8eeb99, 0x34b0bcb5e19b48a8,\n",
    "    0x391c0cb3c5c95a63, 0x4ed8aa4ae3418acb, 0x5b9cca4f7763e373, 0x682e6ff3d6b2b8a3,\n",
    "    0x748f82ee5defb2fc, 0x78a5636f43172f60, 0x84c87814a1f0ab72, 0x8cc702081a6439ec,\n",
    "    0x90befffa23631e28, 0xa4506cebde82bde9, 0xbef9a3f7b2c67915, 0xc67178f2e372532b,\n",
    "    0xca273eceea26619c, 0xd186b8c721c0c207, 0xeada7dd6cde0eb1e, 0xf57d4f7fee6ed178,\n",
    "    0x06f067aa72176fba, 0x0a637dc5a2c898a6, 0x113f9804bef90dae, 0x1b710b35131c471b,\n",
    "    0x28db77f523047d84, 0x32caab7b40c72493, 0x3c9ebe0a15c9bebc, 0x431d67c49c100d4c,\n",
    "    0x4cc5d4becb3e42b6, 0x597f299cfc657e2a, 0x5fcb6fab3ad6faec, 0x6c44198c4a475817\n",
    "]"
   ]
  },
  {
   "cell_type": "code",
   "execution_count": 3,
   "id": "4a9c7c39-3213-4ca6-bde7-0e1ac29c4ce5",
   "metadata": {},
   "outputs": [],
   "source": [
    "def number_to_binary(n):\n",
    "    \"\"\"Convert an integer to a 128-bit binary string.\"\"\"\n",
    "    if not isinstance(n, int):\n",
    "        raise ValueError(\"Input must be an integer.\")\n",
    "    return bin(n)[2:].zfill(128)  # Ensures exactly 128 bits\n",
    "def preprocessing_input(input):\n",
    "    \"\"\"Prepares input for SHA-512 by adding padding and length encoding.\"\"\"\n",
    "    input_bytes = input.encode('utf-8')  # Convert to bytes\n",
    "    n = len(input_bytes)  # Length in bytes\n",
    "    message_bits = ''.join(format(byte, '08b') for byte in input_bytes)  # Convert each byte to 8-bit binary\n",
    "    message_bits += '1'  # Append single '1' bit\n",
    "    # Compute k (number of zero bits required)\n",
    "    k = (896 - ((n * 8 + 1) % 1024)) % 1024\n",
    "    # print(k)\n",
    "    message_bits += '0' * k  # Append k zero bits\n",
    "    # print(message_bits,' message bits')\n",
    "    # Append original length in 64-bit binary\n",
    "    message_bits += number_to_binary(n * 8)\n",
    "    return message_bits\n",
    "def right_rotate(n, b):\n",
    "    \"\"\"Right rotate a 64-bit integer n by b bits.\"\"\"\n",
    "    return ((n >> b) | (n << (64 - b))) & 0xFFFFFFFFFFFFFFFF  # Ensure 64-bit result                                     \n",
    "def SHR(x,n):\n",
    "    return x>>n  "
   ]
  },
  {
   "cell_type": "code",
   "execution_count": 4,
   "id": "27367750-e1ab-4297-957c-1f37a6a61444",
   "metadata": {},
   "outputs": [],
   "source": [
    "def summation_0_func(x):\n",
    "    return right_rotate(x, 28) ^ right_rotate(x, 34) ^ right_rotate(x, 39)\n",
    "def summation_1_func(x):\n",
    "    return right_rotate(x,14) ^ right_rotate(x,18) ^ right_rotate(x,41)\n",
    "def sigma_0_func(x):\n",
    "    return right_rotate(x,1) ^ right_rotate(x,8) ^ SHR(x,7)\n",
    "def sigma_1_func(x):\n",
    "    return right_rotate(x,19) ^ right_rotate(x,61) ^ SHR(x,6)\n",
    "def ch(x,y,z):\n",
    "     return (x & y) ^ ((~x) & z)\n",
    "def maj(x,y,z):\n",
    "    return (x & y) ^ (x & z) ^ (y & z)  "
   ]
  },
  {
   "cell_type": "code",
   "execution_count": 6,
   "id": "1c911552-ab8e-445c-bf95-9ad4c2ef9604",
   "metadata": {},
   "outputs": [],
   "source": [
    "def message_schedule_16_blocks(padded_message_block):\n",
    "    W = []\n",
    "    for i in range(16):  # 16 words of 64 bits each\n",
    "        word = padded_message_block[i * 64: (i + 1) * 64]  # Extract 64-bit chunk\n",
    "        word_int = int(word, 2)  # Convert binary string to integer\n",
    "        W.append(word_int)\n",
    "    return W"
   ]
  },
  {
   "cell_type": "code",
   "execution_count": 7,
   "id": "8f50f244-a00f-4c38-b6a3-133e07c24057",
   "metadata": {},
   "outputs": [],
   "source": [
    "def words_17_to_80(W):\n",
    "    for i in range(16, 80):\n",
    "        new_word = (sigma_1_func(W[i-2]) + W[i-7] + sigma_0_func(W[i-15]) + W[i-16]) &  0xFFFFFFFFFFFFFFFF\n",
    "        W.append(new_word)  # Ensure it's 64-bit\n",
    "    return W"
   ]
  },
  {
   "cell_type": "code",
   "execution_count": 12,
   "id": "f3881af0-5b48-4b49-8f56-9b331934a73a",
   "metadata": {},
   "outputs": [],
   "source": [
    "def Nth_block_output(input,h0_temp,h1_temp,h2_temp,h3_temp,h4_temp,h5_temp,h6_temp,h7_temp):\n",
    "  a, b, c, d, e, f,g,h = h0_temp, h1_temp, h2_temp, h3_temp, h4_temp,h5_temp, h6_temp,h7_temp\n",
    "  W=words_17_to_80(message_schedule_16_blocks(input))\n",
    "  for i in range(80):\n",
    "    T1 = (h + summation_1_func(e) + ch(e, f, g) + K[i] + W[i]) & 0xFFFFFFFFFFFFFFFF\n",
    "    T2 = (summation_0_func(a) + maj(a, b, c)) & 0xFFFFFFFFFFFFFFFF\n",
    "    h = g\n",
    "    g = f\n",
    "    f = e\n",
    "    e = (d + T1) & 0xFFFFFFFFFFFFFFFF\n",
    "    d = c\n",
    "    c = b\n",
    "    b = a\n",
    "    a = (T1 + T2) & 0xFFFFFFFFFFFFFFFF\n",
    "    # print(hex(a),hex(b),hex(c),hex(d),hex(e),hex(f),hex(g),hex(h),' ....')\n",
    "  h0_temp = (h0_temp + a) &0xFFFFFFFFFFFFFFFF\n",
    "  h1_temp = (h1_temp + b) &0xFFFFFFFFFFFFFFFF\n",
    "  h2_temp = (h2_temp + c) &0xFFFFFFFFFFFFFFFF \n",
    "  h3_temp = (h3_temp + d) &0xFFFFFFFFFFFFFFFF\n",
    "  h4_temp = (h4_temp + e) &0xFFFFFFFFFFFFFFFF\n",
    "  h5_temp = (h5_temp + f) &0xFFFFFFFFFFFFFFFF\n",
    "  h6_temp = (h6_temp + g) &0xFFFFFFFFFFFFFFFF\n",
    "  h7_temp = (h7_temp + h) &0xFFFFFFFFFFFFFFFF\n",
    "  return h0_temp,h1_temp,h2_temp,h3_temp,h4_temp,h5_temp,h6_temp,h7_temp"
   ]
  },
  {
   "cell_type": "code",
   "execution_count": 28,
   "id": "4c489c75-73a6-416c-8035-20eb7a68b5c7",
   "metadata": {},
   "outputs": [
    {
     "name": "stdout",
     "output_type": "stream",
     "text": [
      "d2114626772db0106d2a2620d5a3e2ff86ce0ff29108a0773401dd426e2d880e7c76b19e2859ab9cdf1b96a9d155117f73009d36ab78e86c461d180015a06f5\n",
      "128\n"
     ]
    }
   ],
   "source": [
    "def generalized_SHA512(input):\n",
    "   H0 = 0x6a09e667f3bcc908\n",
    "   H1 = 0xbb67ae8584caa73b\n",
    "   H2 = 0x3c6ef372fe94f82b\n",
    "   H3 = 0xa54ff53a5f1d36f1\n",
    "   H4 = 0x510e527fade682d1\n",
    "   H5 = 0x9b05688c2b3e6c1f\n",
    "   H6 = 0x1f83d9abfb41bd6b\n",
    "   H7 = 0x5be0cd19137e2179\n",
    "   h0_temp, h1_temp, h2_temp, h3_temp, h4_temp , h5_temp,h6_temp,h7_temp= H0, H1, H2, H3, H4 ,H5,H6,H7 \n",
    "   length_processed_text = len(preprocessing_input(input))  \n",
    "   input_temp=preprocessing_input(input); \n",
    "   # print(input_temp,len(input_temp))\n",
    "   for i in range(length_processed_text // 1024):\n",
    "        if i == 0:\n",
    "            h0_temp, h1_temp, h2_temp, h3_temp, h4_temp,h5_temp,h6_temp,h7_temp = Nth_block_output(input_temp[0:1024], H0, H1, H2, H3, H4,H5,H6,H7)\n",
    "        else:    \n",
    "            h0_temp, h1_temp, h2_temp, h3_temp, h4_temp,h5_temp,h6_temp,h7_temp = Nth_block_output(input_temp[i * 1024:(i + 1) * 1024], \n",
    "                                                                           h0_temp, h1_temp, h2_temp, h3_temp, h4_temp,h5_temp,h6_temp,h7_temp)\n",
    "\n",
    "    # Convert each temp value to a zero-padded 8-character hex string before concatenating\n",
    "   return ''.join([\n",
    "        f\"{h0_temp:08x}\", \n",
    "        f\"{h1_temp:08x}\", \n",
    "        f\"{h2_temp:08x}\", \n",
    "        f\"{h3_temp:08x}\", \n",
    "        f\"{h4_temp:08x}\",\n",
    "        f\"{h5_temp:08x}\",\n",
    "        f\"{h6_temp:08x}\",\n",
    "        f\"{h7_temp:08x}\"\n",
    "    ])\n",
    "print((generalized_SHA512(\"SHA-256 IMPLEMENTATION\")))\n",
    "# import time \n",
    "# time1=time.perf_counter();\n",
    "# print(len(generalized_SHA512(\"a\"*1000000)))\n",
    "# time2=time.perf_counter();\n",
    "# print(time2-time1)"
   ]
  },
  {
   "cell_type": "code",
   "execution_count": 16,
   "id": "8141afd8-3d20-4384-b179-847eba6f579b",
   "metadata": {},
   "outputs": [
    {
     "name": "stdout",
     "output_type": "stream",
     "text": [
      "True\n"
     ]
    }
   ],
   "source": [
    "print(\"e718483d0ce76964 4e2e42c7bc15b463 8e1f98b13b204428 5632a803afa973eb de0ff244877ea60a 4cb0432ce577c31b eb009c5c2c49aa2e 4eadb217ad8cc09b\".replace(\" \",\"\")==\"e718483d0ce769644e2e42c7bc15b4638e1f98b13b2044285632a803afa973ebde0ff244877ea60a4cb0432ce577c31beb009c5c2c49aa2e4eadb217ad8cc09b\")"
   ]
  },
  {
   "cell_type": "code",
   "execution_count": null,
   "id": "efe7230c-7efe-4663-a7f8-3a8a481ae59d",
   "metadata": {},
   "outputs": [],
   "source": []
  }
 ],
 "metadata": {
  "kernelspec": {
   "display_name": "Python 3 (ipykernel)",
   "language": "python",
   "name": "python3"
  },
  "language_info": {
   "codemirror_mode": {
    "name": "ipython",
    "version": 3
   },
   "file_extension": ".py",
   "mimetype": "text/x-python",
   "name": "python",
   "nbconvert_exporter": "python",
   "pygments_lexer": "ipython3",
   "version": "3.11.4"
  }
 },
 "nbformat": 4,
 "nbformat_minor": 5
}
