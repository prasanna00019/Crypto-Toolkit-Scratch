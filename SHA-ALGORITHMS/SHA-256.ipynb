{
 "cells": [
  {
   "cell_type": "code",
   "execution_count": 1,
   "id": "70da0ee0-f125-4918-96e0-a95f6fdc461b",
   "metadata": {},
   "outputs": [],
   "source": [
    "h0 = 0x6a09e667\n",
    "h1 = 0xbb67ae85\n",
    "h2 = 0x3c6ef372\n",
    "h3 = 0xa54ff53a\n",
    "h4 = 0x510e527f\n",
    "h5 = 0x9b05688c\n",
    "h6 = 0x1f83d9ab\n",
    "h7 = 0x5be0cd19"
   ]
  },
  {
   "cell_type": "code",
   "execution_count": 2,
   "id": "a4343b4a-1c0e-443d-a644-0a25f0fd59fe",
   "metadata": {},
   "outputs": [],
   "source": [
    "K = [\n",
    "    0x428a2f98, 0x71374491, 0xb5c0fbcf, 0xe9b5dba5,\n",
    "    0x3956c25b, 0x59f111f1, 0x923f82a4, 0xab1c5ed5,\n",
    "    0xd807aa98, 0x12835b01, 0x243185be, 0x550c7dc3,\n",
    "    0x72be5d74, 0x80deb1fe, 0x9bdc06a7, 0xc19bf174,\n",
    "    0xe49b69c1, 0xefbe4786, 0x0fc19dc6, 0x240ca1cc,\n",
    "    0x2de92c6f, 0x4a7484aa, 0x5cb0a9dc, 0x76f988da,\n",
    "    0x983e5152, 0xa831c66d, 0xb00327c8, 0xbf597fc7,\n",
    "    0xc6e00bf3, 0xd5a79147, 0x06ca6351, 0x14292967,\n",
    "    0x27b70a85, 0x2e1b2138, 0x4d2c6dfc, 0x53380d13,\n",
    "    0x650a7354, 0x766a0abb, 0x81c2c92e, 0x92722c85,\n",
    "    0xa2bfe8a1, 0xa81a664b, 0xc24b8b70, 0xc76c51a3,\n",
    "    0xd192e819, 0xd6990624, 0xf40e3585, 0x106aa070,\n",
    "    0x19a4c116, 0x1e376c08, 0x2748774c, 0x34b0bcb5,\n",
    "    0x391c0cb3, 0x4ed8aa4a, 0x5b9cca4f, 0x682e6ff3,\n",
    "    0x748f82ee, 0x78a5636f, 0x84c87814, 0x8cc70208,\n",
    "    0x90befffa, 0xa4506ceb, 0xbef9a3f7, 0xc67178f2\n",
    "]\n"
   ]
  },
  {
   "cell_type": "code",
   "execution_count": 4,
   "id": "b41df191-03b1-4d11-97c4-79f8a238da70",
   "metadata": {},
   "outputs": [],
   "source": [
    "def preprocessing_input(input):\n",
    "    n=len(input)\n",
    "    k= (448-(1+n*8))%512\n",
    "    print('1'+ k*'0'+ number_to_binary(n*8))\n",
    "    print(len('1'+ k*'0'+ number_to_binary(n*8)))\n",
    "def number_to_binary(n):\n",
    "    \"\"\"Convert an integer to a 64-bit binary string.\"\"\"\n",
    "    if not isinstance(n, int):\n",
    "        raise ValueError(\"Input must be an integer.\")\n",
    "    return bin(n)[2:].zfill(64)  # Ensures exactly 64 bits\n",
    "\n",
    "def preprocessing_input(input):\n",
    "    \"\"\"Prepares input for SHA-1 by adding padding and length encoding.\"\"\"\n",
    "    input_bytes = input.encode('utf-8')  # Convert to bytes\n",
    "    n = len(input_bytes)  # Length in bytes\n",
    "    # n=len(input)\n",
    "    # print(n)\n",
    "    message_bits = ''.join(format(byte, '08b') for byte in input_bytes)  # Convert each byte to 8-bit binary\n",
    "    message_bits += '1'  # Append single '1' bit\n",
    "    # Compute k (number of zero bits required)\n",
    "    k = (448 - ((n * 8 + 1) % 512)) % 512\n",
    "    message_bits += '0' * k  # Append k zero bits\n",
    "    # Append original length in 64-bit binary\n",
    "    message_bits += number_to_binary(n * 8)\n",
    "    return message_bits\n",
    "def right_rotate(n, b):\n",
    "    \"\"\"Right rotate a 32-bit integer n by b bits.\"\"\"\n",
    "    return ((n >> b) | (n << (32 - b))) & 0xFFFFFFFF  # Ensure 32-bit result    \n",
    "def SHR(x,n):\n",
    "    return x>>n"
   ]
  },
  {
   "cell_type": "code",
   "execution_count": 5,
   "id": "d71a3acc-ff4d-4622-bbd7-e2fefff432c1",
   "metadata": {},
   "outputs": [],
   "source": [
    "def summation_0_func(x):\n",
    "    # print(f\"Length of x in bits: {x.bit_length()}\")  # Print bit length of x\n",
    "    return right_rotate(x,2) ^ right_rotate(x,13) ^ right_rotate(x,22)\n",
    "def summation_1_func(x):\n",
    "    return right_rotate(x,6) ^ right_rotate(x,11) ^ right_rotate(x,25)\n",
    "def sigma_0_func(x):\n",
    "    return right_rotate(x,7) ^ right_rotate(x,18) ^ SHR(x,3)\n",
    "def sigma_1_func(x):\n",
    "    return right_rotate(x,17) ^ right_rotate(x,19) ^ SHR(x,10)\n",
    "def ch(x,y,z):\n",
    "     return (x & y) ^ ((~x) & z)\n",
    "def maj(x,y,z):\n",
    "    return (x & y) ^ (y & z) ^ (x & z)"
   ]
  },
  {
   "cell_type": "code",
   "execution_count": 16,
   "id": "6703a31a-72dc-4a41-903c-e49760f5e3e6",
   "metadata": {},
   "outputs": [],
   "source": [
    "def message_schedule_16_blocks(padded_message_block):\n",
    "    \"\"\"\n",
    "    Extracts W₀ to W₁₅ from a 512-bit padded message block and converts to hex.\n",
    "    Assumes input is a string of '0' and '1' (binary representation).\n",
    "    \"\"\"\n",
    "    W = []\n",
    "    for i in range(16):  # 16 words of 32 bits each\n",
    "        word = padded_message_block[i * 32: (i + 1) * 32]  # Extract 32-bit chunk\n",
    "        word_int = int(word, 2)  # Convert binary string to integer\n",
    "        W.append(word_int)\n",
    "    return W"
   ]
  },
  {
   "cell_type": "code",
   "execution_count": 17,
   "id": "996834c8-d15f-4841-9aba-decaf1c0d90a",
   "metadata": {},
   "outputs": [],
   "source": [
    "def words_17_to_64(W):\n",
    "    \"\"\"\n",
    "    Expands W₀ to W₆₃ using:\n",
    "    Wₜ = (σ₁(Wₜ₋₂) + Wₜ₋₇ + σ₀(Wₜ₋₁₅) + Wₜ₋₁₆) mod 2³²\n",
    "    \"\"\"\n",
    "    for i in range(16, 64):\n",
    "        new_word = (sigma_1_func(W[i-2]) + W[i-7] + sigma_0_func(W[i-15]) + W[i-16]) & 0xFFFFFFFF\n",
    "        W.append(new_word)  # Ensure it's 32-bit\n",
    "    return W"
   ]
  },
  {
   "cell_type": "code",
   "execution_count": 12,
   "id": "1aa33349-5e6f-4448-8d73-8cb52710d462",
   "metadata": {},
   "outputs": [],
   "source": [
    "def Nth_block_output(input,h0_temp,h1_temp,h2_temp,h3_temp,h4_temp,h5_temp,h6_temp,h7_temp):\n",
    "  a, b, c, d, e, f,g,h = h0_temp, h1_temp, h2_temp, h3_temp, h4_temp,h5_temp, h6_temp,h7_temp\n",
    "  W=words_17_to_64(message_schedule_16_blocks(input))\n",
    "  for i in range(64):\n",
    "    T1=(h + summation_1_func(e) + ch(e,f,g) + K[i] + W[i]) & 0xFFFFFFFF \n",
    "    T2= (summation_0_func(a) + maj(a,b,c)) & 0xFFFFFFFF \n",
    "    h=g\n",
    "    g=f\n",
    "    f=e\n",
    "    e=(d+ T1) & 0xFFFFFFFF\n",
    "    d=c\n",
    "    c=b\n",
    "    b=a\n",
    "    a= (T1+ T2) & 0xFFFFFFFF \n",
    "\n",
    "  h0_temp = (h0_temp + a) & 0xFFFFFFFF\n",
    "  h1_temp = (h1_temp + b) & 0xFFFFFFFF\n",
    "  h2_temp = (h2_temp + c) & 0xFFFFFFFF   \n",
    "  h3_temp = (h3_temp + d) & 0xFFFFFFFF\n",
    "  h4_temp = (h4_temp + e) & 0xFFFFFFFF\n",
    "  h5_temp = (h5_temp + f) & 0xFFFFFFFF\n",
    "  h6_temp = (h6_temp + g) & 0xFFFFFFFF\n",
    "  h7_temp = (h7_temp + h) & 0xFFFFFFFF\n",
    "  return h0_temp,h1_temp,h2_temp,h3_temp,h4_temp,h5_temp,h6_temp,h7_temp"
   ]
  },
  {
   "cell_type": "code",
   "execution_count": 15,
   "id": "6ba311b7-3cf8-4893-81d2-cae089b47906",
   "metadata": {},
   "outputs": [
    {
     "name": "stdout",
     "output_type": "stream",
     "text": [
      "d5a0cf9e31b12e78423c169d2aff1071fe1555853e759a8242fdf4a5506bdbbb\n"
     ]
    },
    {
     "name": "stdin",
     "output_type": "stream",
     "text": [
      "enter plain text:  xjjcsjcjsjsjvjdoovw sc \n"
     ]
    },
    {
     "name": "stdout",
     "output_type": "stream",
     "text": [
      "data: \n",
      "Message Digest(SHA-256):  2c31e60bd8f04cec9454d7ae3a7b00f2079e99b4b9e75d5faee32b0c8a1a6724\n",
      "cdc76e5c9914fb9281a1c7e284d73e67f1809a48a497200e046d39ccc7112cd0\n",
      "5.76024440000765\n"
     ]
    }
   ],
   "source": [
    "def generalized_SHA256(input):\n",
    "    h0 = 0x6a09e667\n",
    "    h1 = 0xbb67ae85\n",
    "    h2 = 0x3c6ef372\n",
    "    h3 = 0xa54ff53a\n",
    "    h4 = 0x510e527f\n",
    "    h5 = 0x9b05688c\n",
    "    h6 = 0x1f83d9ab\n",
    "    h7 = 0x5be0cd19\n",
    "    h0_temp, h1_temp, h2_temp, h3_temp, h4_temp , h5_temp,h6_temp,h7_temp= h0, h1, h2, h3, h4 ,h5,h6,h7 \n",
    "    length_processed_text = len(preprocessing_input(input))  \n",
    "    input_temp=preprocessing_input(input); \n",
    "    for i in range(length_processed_text // 512):\n",
    "        if i == 0:\n",
    "            h0_temp, h1_temp, h2_temp, h3_temp, h4_temp,h5_temp,h6_temp,h7_temp = Nth_block_output(input_temp[0:512], h0, h1, h2, h3, h4,h5,h6,h7)\n",
    "        else:    \n",
    "            h0_temp, h1_temp, h2_temp, h3_temp, h4_temp,h5_temp,h6_temp,h7_temp = Nth_block_output(input_temp[i * 512:(i + 1) * 512], \n",
    "                                                                           h0_temp, h1_temp, h2_temp, h3_temp, h4_temp,h5_temp,h6_temp,h7_temp)\n",
    "        \n",
    "        # 🔹 Print intermediate values in hex for debugging\n",
    "        # print(f\"After block {i+1}:\")\n",
    "        # print(f\"h0 = {h0_temp:08x}\")\n",
    "        # print(f\"h1 = {h1_temp:08x}\")\n",
    "        # print(f\"h2 = {h2_temp:08x}\")\n",
    "        # print(f\"h3 = {h3_temp:08x}\")\n",
    "        # print(f\"h4 = {h4_temp:08x}\")\n",
    "        # print(\"-\" * 50)  # Separator for readability\n",
    "\n",
    "    # Convert each temp value to a zero-padded 8-character hex string before concatenating\n",
    "    return ''.join([\n",
    "        f\"{h0_temp:08x}\", \n",
    "        f\"{h1_temp:08x}\", \n",
    "        f\"{h2_temp:08x}\", \n",
    "        f\"{h3_temp:08x}\", \n",
    "        f\"{h4_temp:08x}\",\n",
    "        f\"{h5_temp:08x}\",\n",
    "        f\"{h6_temp:08x}\",\n",
    "        f\"{h7_temp:08x}\"\n",
    "    ])\n",
    "# print(generalized_SHA256(\"abc\"))\n",
    "# print(generalized_SHA256(\"abcdbcdecdefdefgefghfghighijhijkijkljklmklmnlmnomnopnopq\"))\n",
    "print(generalized_SHA256(\"hi i am here how are you\\nhi i am here how are you\"))\n",
    "input_text=input(\"enter plain text: \")\n",
    "import sys\n",
    "data = sys.stdin.read() \n",
    "print(\"data:\", data)\n",
    "print(\"Message Digest(SHA-256): \",generalized_SHA256(input_text))\n",
    "import time \n",
    "t1=time.perf_counter()\n",
    "print(generalized_SHA256(\"a\"*1000000))\n",
    "t2=time.perf_counter();\n",
    "print(t2-t1)"
   ]
  },
  {
   "cell_type": "code",
   "execution_count": null,
   "id": "4745b951-115d-45c4-952b-b622b0947d55",
   "metadata": {},
   "outputs": [],
   "source": []
  }
 ],
 "metadata": {
  "kernelspec": {
   "display_name": "Python 3 (ipykernel)",
   "language": "python",
   "name": "python3"
  },
  "language_info": {
   "codemirror_mode": {
    "name": "ipython",
    "version": 3
   },
   "file_extension": ".py",
   "mimetype": "text/x-python",
   "name": "python",
   "nbconvert_exporter": "python",
   "pygments_lexer": "ipython3",
   "version": "3.11.4"
  }
 },
 "nbformat": 4,
 "nbformat_minor": 5
}
