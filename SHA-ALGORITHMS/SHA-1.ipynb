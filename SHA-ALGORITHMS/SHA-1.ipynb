{
 "cells": [
  {
   "cell_type": "markdown",
   "id": "c697982f",
   "metadata": {},
   "source": [
    "# 🛡️ SHA-1 Hash Implementation in Python (From Scratch)\n",
    "\n",
    "Welcome to this Jupyter Notebook project, where we **build the SHA-1 cryptographic hash function from scratch** in Python! 🚀\n",
    "\n",
    "## 📚 Overview\n",
    "\n",
    "This notebook demonstrates a step-by-step construction of the SHA-1 algorithm, including:\n",
    "\n",
    "- Bitwise operations and message preprocessing\n",
    "- Message scheduling and block processing\n",
    "- Implementation of SHA-1's core functions and rounds\n",
    "- Final hash computation and validation\n",
    "\n",
    "All code is written **from scratch** without using any external cryptographic libraries, providing a clear educational insight into how SHA-1 works under the hood.\n",
    "\n",
    "## 🧩 Features\n",
    "\n",
    "- 📦 **Pure Python**: No dependencies on external hash libraries.\n",
    "- 📝 **Well-documented**: Each function and step is explained for clarity.\n",
    "- 🧪 **Tested**: Includes test vectors to verify correctness.\n",
    "- 🔍 **Debugging Aids**: Intermediate values and comments for learning and troubleshooting.\n",
    "\n",
    "## 🏗️ Structure\n",
    "\n",
    "- **Initialization**: SHA-1 constants and initial hash values.\n",
    "- **Preprocessing**: Padding and length encoding of the input message.\n",
    "- **Message Schedule**: Expansion of 16 initial 32-bit words to 80 words.\n",
    "- **Main Loop**: 80 rounds of SHA-1 compression.\n",
    "- **Final Output**: Concatenation of hash values to produce the final digest.\n",
    "\n",
    "## 🧑‍💻 Usage\n",
    "\n",
    "Simply run the notebook cells in order. You can test the implementation with your own input strings or use the provided test cases.\n",
    "\n",
    "## 🧠 Learning Goals\n",
    "\n",
    "- Understand the internal workings of SHA-1.\n",
    "- Learn about bitwise operations, binary encoding, and modular arithmetic in cryptography.\n",
    "- Gain experience in building cryptographic primitives from the ground up.\n",
    "\n",
    "## ⚠️ Disclaimer\n",
    "\n",
    "This implementation is for **educational purposes only**. Do **not** use it for production or security-critical applications.\n",
    "\n",
    "---\n",
    "\n",
    "Happy hashing! ✨"
   ]
  },
  {
   "cell_type": "code",
   "execution_count": 1,
   "id": "931af842-222a-4dca-b5d4-4ef7d33845dd",
   "metadata": {},
   "outputs": [],
   "source": [
    "h0 = 0x67452301\n",
    "h1 = 0xEFCDAB89\n",
    "h2 = 0x98BADCFE\n",
    "h3 = 0x10325476\n",
    "h4 = 0xC3D2E1F0"
   ]
  },
  {
   "cell_type": "code",
   "execution_count": 2,
   "id": "2fc2634d-2abd-4a7c-b32f-6e76b3855a19",
   "metadata": {},
   "outputs": [],
   "source": [
    "kt1=0x5a827999\n",
    "kt2=0x6ed9eba1 \n",
    "kt3=0x8f1bbcdc\n",
    "kt4=0xca62c1d6\n",
    "#k is a solution of this equation below -> where l is size of message in bits . \n",
    "# l + 1 + k = 448mod 512  "
   ]
  },
  {
   "cell_type": "code",
   "execution_count": 3,
   "id": "7d6f27b6-198e-4a62-967a-739358518764",
   "metadata": {},
   "outputs": [],
   "source": [
    "def number_to_binary(n):\n",
    "    \"\"\"Convert an integer to a binary string without the '0b' prefix.\"\"\"\n",
    "    if not isinstance(n, int):\n",
    "        raise ValueError(\"Input must be an integer.\")\n",
    "    print(len((64-len(bin(n)[2:]))*'0' + bin(n)[2:]))    \n",
    "    return (64-len(bin(n)[2:]))*'0' + bin(n)[2:]  # Remove '0b' prefix"
   ]
  },
  {
   "cell_type": "code",
   "execution_count": 4,
   "id": "47e57bb6-4cbc-4728-868f-dcefb7c98f66",
   "metadata": {},
   "outputs": [
    {
     "name": "stdout",
     "output_type": "stream",
     "text": [
      "64\n"
     ]
    },
    {
     "data": {
      "text/plain": [
       "'1111111111111111111111111111111111111111111111111111111111111111'"
      ]
     },
     "execution_count": 4,
     "metadata": {},
     "output_type": "execute_result"
    }
   ],
   "source": [
    "number_to_binary(2**64-1)"
   ]
  },
  {
   "cell_type": "code",
   "execution_count": 5,
   "id": "3f0592b2-52b7-4162-b45a-5d142d43c023",
   "metadata": {},
   "outputs": [],
   "source": [
    "def preprocessing_input(input):\n",
    "    n=len(input)\n",
    "    k= (448-(1+n*8))%512\n",
    "    print('1'+ k*'0'+ number_to_binary(n*8))\n",
    "    print(len('1'+ k*'0'+ number_to_binary(n*8)))"
   ]
  },
  {
   "cell_type": "code",
   "execution_count": 6,
   "id": "3fa588b3-b788-4672-8ff2-c1b46b886f49",
   "metadata": {},
   "outputs": [],
   "source": [
    "def number_to_binary(n):\n",
    "    \"\"\"Convert an integer to a 64-bit binary string.\"\"\"\n",
    "    if not isinstance(n, int):\n",
    "        raise ValueError(\"Input must be an integer.\")\n",
    "    return bin(n)[2:].zfill(64)  # Ensures exactly 64 bits\n",
    "\n",
    "def preprocessing_input(input):\n",
    "    \"\"\"Prepares input for SHA-1 by adding padding and length encoding.\"\"\"\n",
    "    input_bytes = input.encode('utf-8')  # Convert to bytes\n",
    "    n = len(input_bytes)  # Length in bytes\n",
    "    # n=len(input)\n",
    "    # print(n)\n",
    "    message_bits = ''.join(format(byte, '08b') for byte in input_bytes)  # Convert each byte to 8-bit binary\n",
    "    message_bits += '1'  # Append single '1' bit\n",
    "    # Compute k (number of zero bits required)\n",
    "    k = (448 - ((n * 8 + 1) % 512)) % 512\n",
    "    message_bits += '0' * k  # Append k zero bits\n",
    "    # Append original length in 64-bit binary\n",
    "    message_bits += number_to_binary(n * 8)\n",
    "    return message_bits"
   ]
  },
  {
   "cell_type": "code",
   "execution_count": 7,
   "id": "2497e118-72d9-4ec6-b4a1-ea33ab4dc2e5",
   "metadata": {},
   "outputs": [],
   "source": [
    "def message_schedule_16_blocks(padded_message_block):\n",
    "    \"\"\"\n",
    "    Extracts W₀ to W₁₅ from a 512-bit padded message block and converts to hex.\n",
    "    Assumes input is a string of '0' and '1' (binary representation).\n",
    "    \"\"\"\n",
    "    W = []\n",
    "    for i in range(16):  # 16 words of 32 bits each\n",
    "        word = padded_message_block[i * 32: (i + 1) * 32]  # Extract 32-bit chunk\n",
    "        word_int = int(word, 2)  # Convert binary string to integer\n",
    "        # word_hex = hex(word_int)[2:].zfill(8)  # Convert integer to hex (8 characters)\n",
    "        # W.append(word_hex)\n",
    "        W.append(word_int)\n",
    "    return W"
   ]
  },
  {
   "cell_type": "code",
   "execution_count": 8,
   "id": "548b70a3-d4ce-4f7f-b4ea-26b1e6b1d798",
   "metadata": {},
   "outputs": [],
   "source": [
    "def left_rotate(n, b):\n",
    "    \"\"\"Left rotate a 32-bit integer n by b bits.\"\"\"\n",
    "    return ((n << b) | (n >> (32 - b))) & 0xFFFFFFFF  # Ensure 32-bit result\n",
    "\n",
    "def words_17_to_80(W):\n",
    "    \"\"\"\n",
    "    Generates W₁₆ to W₇₉ using:\n",
    "    W_t = (W_{t-3} ⊕ W_{t-8} ⊕ W_{t-14} ⊕ W_{t-16}) <<< 1\n",
    "    \"\"\"\n",
    "    # Convert input hex strings to integers\n",
    "    # W = [int(word, 16) for word in W]  \n",
    "\n",
    "    for i in range(16, 80):\n",
    "        new_word = W[i-3] ^ W[i-8] ^ W[i-14] ^ W[i-16]  # XOR operation\n",
    "        new_word = left_rotate(new_word, 1)  # Left rotate by 1\n",
    "        W.append(new_word & 0xFFFFFFFF)  # Ensure it's 32-bit\n",
    "    return W"
   ]
  },
  {
   "cell_type": "code",
   "execution_count": 9,
   "id": "fffbc7d0-ff9b-4ca4-b303-fc26ebfb9799",
   "metadata": {},
   "outputs": [],
   "source": [
    "def f1(b, c, d):\n",
    "    return (b & c) | ((~b) & d)  # Ch (choose function)\n",
    "\n",
    "def f2(b, c, d):\n",
    "    return b ^ c ^ d  # Parity function\n",
    "\n",
    "def f3(b, c, d):\n",
    "    return (b & c) | (b & d) | (c & d)  # Majority function\n",
    "\n",
    "def f4(b, c, d):\n",
    "    return b ^ c ^ d  # Parity function again"
   ]
  },
  {
   "cell_type": "code",
   "execution_count": 10,
   "id": "3e35d1b2-e1d1-4502-b469-814b7a910831",
   "metadata": {},
   "outputs": [],
   "source": [
    "def Nth_block_output(input,h0_temp,h1_temp,h2_temp,h3_temp,h4_temp):\n",
    "  a, b, c, d, e = h0_temp, h1_temp, h2_temp, h3_temp, h4_temp\n",
    "  W=words_17_to_80(message_schedule_16_blocks(input))\n",
    "  for i in range(80):\n",
    "    if 0 <= i <= 19:\n",
    "        f = f1(b, c, d)\n",
    "        k = kt1    \n",
    "    elif 20 <= i <= 39:\n",
    "        f = f2(b, c, d)\n",
    "        k = kt2\n",
    "    elif 40 <= i <= 59:\n",
    "        f = f3(b, c, d)\n",
    "        k = kt3\n",
    "    elif 60 <= i <= 79:\n",
    "        f = f4(b, c, d)\n",
    "        k = kt4\n",
    "    # Calculate temp value (mod 2^32 to keep within 32 bits)\n",
    "    temp = (left_rotate(a, 5) + f + e + k + W[i]) & 0xFFFFFFFF\n",
    "    # Update values for next round\n",
    "    e = d\n",
    "    d = c\n",
    "    c = left_rotate(b, 30)\n",
    "    b = a\n",
    "    a = temp\n",
    "  h0_temp = (h0_temp + a) & 0xFFFFFFFF\n",
    "  h1_temp = (h1_temp + b) & 0xFFFFFFFF\n",
    "  h2_temp = (h2_temp + c) & 0xFFFFFFFF   \n",
    "  h3_temp = (h3_temp + d) & 0xFFFFFFFF\n",
    "  h4_temp = (h4_temp + e) & 0xFFFFFFFF\n",
    "  return h0_temp,h1_temp,h2_temp,h3_temp,h4_temp"
   ]
  },
  {
   "cell_type": "code",
   "execution_count": null,
   "id": "bb023598-afd5-4755-a834-896546301b64",
   "metadata": {},
   "outputs": [
    {
     "name": "stdout",
     "output_type": "stream",
     "text": [
      "84983e441c3bd26ebaae4aa1f95129e5e54670f1\n"
     ]
    }
   ],
   "source": [
    "def generalized_SHA1(input):\n",
    "    h0 = 0x67452301\n",
    "    h1 = 0xEFCDAB89\n",
    "    h2 = 0x98BADCFE\n",
    "    h3 = 0x10325476\n",
    "    h4 = 0xC3D2E1F0\n",
    "    kt1 = 0x5A827999\n",
    "    kt2 = 0x6ED9EBA1\n",
    "    kt3 = 0x8F1BBCDC\n",
    "    kt4 = 0xCA62C1D6\n",
    "    h0_temp, h1_temp, h2_temp, h3_temp, h4_temp = h0, h1, h2, h3, h4  # Initialize with default values\n",
    "\n",
    "    length_processed_text = len(preprocessing_input(input))  # Get processed input length\n",
    "    input_temp=preprocessing_input(input); \n",
    "    for i in range(length_processed_text // 512):\n",
    "        if i == 0:\n",
    "            h0_temp, h1_temp, h2_temp, h3_temp, h4_temp = Nth_block_output(input_temp[0:512], h0, h1, h2, h3, h4)\n",
    "        else:    \n",
    "            h0_temp, h1_temp, h2_temp, h3_temp, h4_temp = Nth_block_output(input_temp[i * 512:(i + 1) * 512], \n",
    "                                                                           h0_temp, h1_temp, h2_temp, h3_temp, h4_temp)\n",
    "        \n",
    "        # 🔹 Print intermediate values in hex for debugging\n",
    "        # print(f\"After block {i+1}:\")\n",
    "        # print(f\"h0 = {h0_temp:08x}\")\n",
    "        # print(f\"h1 = {h1_temp:08x}\")\n",
    "        # print(f\"h2 = {h2_temp:08x}\")\n",
    "        # print(f\"h3 = {h3_temp:08x}\")\n",
    "        # print(f\"h4 = {h4_temp:08x}\")\n",
    "        # print(\"-\" * 50)  # Separator for readability\n",
    "\n",
    "    # Convert each temp value to a zero-padded 8-character hex string before concatenating\n",
    "    return ''.join([\n",
    "        f\"{h0_temp:08x}\", \n",
    "        f\"{h1_temp:08x}\", \n",
    "        f\"{h2_temp:08x}\", \n",
    "        f\"{h3_temp:08x}\", \n",
    "        f\"{h4_temp:08x}\"\n",
    "    ])\n",
    "\n",
    "print(generalized_SHA1(\"abcdbcdecdefdefgefghfghighijhijkijkljklmklmnlmnomnopnopq\"))\n",
    "# print(\"84983e441c3bd26ebaae4aa1f95129e5e54670f1\"==\"84983e441c3bd26ebaae4aa1f95129e5e54670f1\")\n",
    "# print(generalized_SHA1(\"a\"*1000000))\n",
    "# print(generalized_SHA1(\"PRASANNA IS A DIVINE HEAVENLY PERSON❤\"))\n",
    "# print(\"7002e4deaa44740d720d96c10c353c2691b04eb6\"==\"7002e4deaa44740d720d96c10c353c2691b04eb6\")\n",
    "# print(\"e4978ee22f39c19e0dfbb9257e7e257f68975a99\"==\"e4978ee22f39c19e0dfbb9257e7e257f68975a99\")\n",
    "# print(\"0ffd065a3454e24808990e50d7fad216026732a2\"==\"0ffd065a3454e24808990e50d7fad216026732a2\")\n",
    "# import time \n",
    "# t1=time.perf_counter()\n",
    "# print(generalized_SHA1(\"a\"*1000000))\n",
    "# t2=time.perf_counter();\n",
    "# print(t2-t1)"
   ]
  },
  {
   "cell_type": "code",
   "execution_count": 12,
   "id": "d64ff927-bae6-4a08-b4ef-12d78bcc9827",
   "metadata": {},
   "outputs": [
    {
     "name": "stdout",
     "output_type": "stream",
     "text": [
      "True\n"
     ]
    }
   ],
   "source": [
    "print(\"34aa973cd4c4daa4f61eeb2bdbad27316534016f\"==\"34aa973cd4c4daa4f61eeb2bdbad27316534016f\")"
   ]
  },
  {
   "cell_type": "code",
   "execution_count": 13,
   "id": "085dd3da-29bf-46f1-8673-efb4b282cc01",
   "metadata": {},
   "outputs": [],
   "source": [
    "input_2=\"abcdbcdecdefdefgefghfghighijhijkijkljklmklmnlmnomnopnopq\""
   ]
  },
  {
   "cell_type": "code",
   "execution_count": 14,
   "id": "d2c9d5b0-5cd4-4dff-89bb-0df269d7a645",
   "metadata": {},
   "outputs": [
    {
     "name": "stdout",
     "output_type": "stream",
     "text": [
      "512\n",
      "[0, 0, 0, 0, 0, 0, 0, 0, 0, 0, 0, 0, 0, 0, 0, 448, 0, 0, 896, 0, 0, 1792, 0, 896, 3584, 0, 0, 7168, 0, 3456, 14336, 1152, 0, 28672, 3584, 13824, 57344, 3584, 0, 118272, 0, 55296, 229376, 20224, 0, 462336, 60928, 226560, 917504, 57344, 13824, 1895936, 0, 913408, 3670016, 312832, 57344, 7400960, 974848, 3579392, 14680064, 972288, 57344, 30320128, 0, 14155776, 58777600, 5177344, 0, 118358016, 15597568, 58006528, 234881024, 14737408, 3553280, 485396480, 0, 233869312, 939581440, 80180224]\n"
     ]
    }
   ],
   "source": [
    "W11 = message_schedule_16_blocks(preprocessing_input(input_2)[512:])\n",
    "print(len(preprocessing_input((input_2))[512:]))\n",
    "# print(W11)\n",
    "W22= words_17_to_80(W11)\n",
    "print(W22)"
   ]
  },
  {
   "cell_type": "code",
   "execution_count": 15,
   "id": "bea691d8-86b3-4309-b7d8-9efd357fcadb",
   "metadata": {},
   "outputs": [
    {
     "name": "stdout",
     "output_type": "stream",
     "text": [
      "SHA-1 Hash: 84983e44 1c3bd26e baae4aa1 f95129e5 e54670f1\n",
      "True\n"
     ]
    }
   ],
   "source": [
    "# Initial hash values (SHA-1 constants)\n",
    "h0 = 0xf4286818\n",
    "h1 = 0xc37b27ae\n",
    "h2 = 0x0408f581\n",
    "h3 = 0x84677148\n",
    "h4 = 0x4a566572\n",
    "\n",
    "# SHA-1 Constants\n",
    "kt1 = 0x5A827999\n",
    "kt2 = 0x6ED9EBA1\n",
    "kt3 = 0x8F1BBCDC\n",
    "kt4 = 0xCA62C1D6\n",
    "\n",
    "def left_rotate(n, b):\n",
    "    \"\"\"Left rotate a 32-bit integer n by b bits.\"\"\"\n",
    "    return ((n << b) | (n >> (32 - b))) & 0xFFFFFFFF  # Ensure 32-bit result\n",
    "\n",
    "# SHA-1 Functions\n",
    "def f1(b, c, d):\n",
    "    return (b & c) | ((~b) & d)  # Ch (choose function)\n",
    "\n",
    "def f2(b, c, d):\n",
    "    return b ^ c ^ d  # Parity function\n",
    "\n",
    "def f3(b, c, d):\n",
    "    return (b & c) | (b & d) | (c & d)  # Majority function\n",
    "\n",
    "def f4(b, c, d):\n",
    "    return b ^ c ^ d  # Parity function again\n",
    "\n",
    "# SHA-1 Main Loop\n",
    "a, b, c, d, e = h0, h1, h2, h3, h4\n",
    "\n",
    "for i in range(80):\n",
    "    if 0 <= i <= 19:\n",
    "        f = f1(b, c, d)\n",
    "        k = kt1    \n",
    "    elif 20 <= i <= 39:\n",
    "        f = f2(b, c, d)\n",
    "        k = kt2\n",
    "    elif 40 <= i <= 59:\n",
    "        f = f3(b, c, d)\n",
    "        k = kt3\n",
    "    elif 60 <= i <= 79:\n",
    "        f = f4(b, c, d)\n",
    "        k = kt4\n",
    "\n",
    "    # Calculate temp value (mod 2^32 to keep within 32 bits)\n",
    "    temp = (left_rotate(a, 5) + f + e + k + W22[i]) & 0xFFFFFFFF\n",
    "\n",
    "    # Update values for next round\n",
    "    e = d\n",
    "    d = c\n",
    "    c = left_rotate(b, 30)\n",
    "    b = a\n",
    "    a = temp\n",
    "\n",
    "# Final hash values (Add to initial hash values)\n",
    "h0 = (h0 + a) & 0xFFFFFFFF\n",
    "h1 = (h1 + b) & 0xFFFFFFFF\n",
    "h2 = (h2 + c) & 0xFFFFFFFF\n",
    "h3 = (h3 + d) & 0xFFFFFFFF\n",
    "h4 = (h4 + e) & 0xFFFFFFFF\n",
    "# print(h0,h1,h2,h3,h4)\n",
    "# Final SHA-1 Hash (Concatenate final hash values)\n",
    "final_hash = ' '.join(f'{x:08x}' for x in [h0, h1, h2, h3, h4])\n",
    "\n",
    "print(\"SHA-1 Hash:\", final_hash)\n",
    "print(final_hash=='84983e44 1c3bd26e baae4aa1 f95129e5 e54670f1')"
   ]
  }
 ],
 "metadata": {
  "kernelspec": {
   "display_name": "Python 3 (ipykernel)",
   "language": "python",
   "name": "python3"
  },
  "language_info": {
   "codemirror_mode": {
    "name": "ipython",
    "version": 3
   },
   "file_extension": ".py",
   "mimetype": "text/x-python",
   "name": "python",
   "nbconvert_exporter": "python",
   "pygments_lexer": "ipython3",
   "version": "3.11.4"
  }
 },
 "nbformat": 4,
 "nbformat_minor": 5
}
