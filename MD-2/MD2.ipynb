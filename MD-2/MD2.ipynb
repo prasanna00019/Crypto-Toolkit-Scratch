{
  "cells": [
    {
      "cell_type": "code",
      "execution_count": null,
      "metadata": {
        "colab": {
          "base_uri": "https://localhost:8080/"
        },
        "id": "36lBJe8Yt2wP",
        "outputId": "3a1b873d-15c3-4ae0-b4ce-35fef081aadd"
      },
      "outputs": [
        {
          "name": "stdout",
          "output_type": "stream",
          "text": [
            "b'': 8350e5a3e24c153df2275c9f80692773  OK\n",
            "b'a': 32ec01ec4a6dac72c0ab96fb34c0b5d1  OK\n",
            "b'abc': da853b0d3f88d99b30283a69e6ded6bb  OK\n",
            "b'message digest': ab4f496bfb2a530b219ff33031fe06b0  OK\n",
            "b'abcdefghijklmnopqrstuvwxyz': 4e8ddff3650292ab5a4108c3aa47940b  OK\n"
          ]
        }
      ],
      "source": [
        "# Permutation table S\n",
        "S = [\n",
        "   41, 46, 67, 201, 162, 216, 124, 1, 61, 54, 84, 161, 236, 240, 6,\n",
        "  19, 98, 167, 5, 243, 192, 199, 115, 140, 152, 147, 43, 217, 188,\n",
        "  76, 130, 202, 30, 155, 87, 60, 253, 212, 224, 22, 103, 66, 111, 24,\n",
        "  138, 23, 229, 18, 190, 78, 196, 214, 218, 158, 222, 73, 160, 251,\n",
        "  245, 142, 187, 47, 238, 122, 169, 104, 121, 145, 21, 178, 7, 63,\n",
        "  148, 194, 16, 137, 11, 34, 95, 33, 128, 127, 93, 154, 90, 144, 50,\n",
        "  39, 53, 62, 204, 231, 191, 247, 151, 3, 255, 25, 48, 179, 72, 165,\n",
        "  181, 209, 215, 94, 146, 42, 172, 86, 170, 198, 79, 184, 56, 210,\n",
        "  150, 164, 125, 182, 118, 252, 107, 226, 156, 116, 4, 241, 69, 157,\n",
        "  112, 89, 100, 113, 135, 32, 134, 91, 207, 101, 230, 45, 168, 2, 27,\n",
        "  96, 37, 173, 174, 176, 185, 246, 28, 70, 97, 105, 52, 64, 126, 15,\n",
        "  85, 71, 163, 35, 221, 81, 175, 58, 195, 92, 249, 206, 186, 197,\n",
        "  234, 38, 44, 83, 13, 110, 133, 40, 132, 9, 211, 223, 205, 244, 65,\n",
        "  129, 77, 82, 106, 220, 55, 200, 108, 193, 171, 250, 36, 225, 123,\n",
        "  8, 12, 189, 177, 74, 120, 136, 149, 139, 227, 99, 232, 109, 233,\n",
        "  203, 213, 254, 59, 0, 29, 57, 242, 239, 183, 14, 102, 88, 208, 228,\n",
        "  166, 119, 114, 248, 235, 117, 75, 10, 49, 68, 80, 180, 143, 237,\n",
        "  31, 26, 219, 153, 141, 51, 159, 17, 131, 20\n",
        "]\n",
        "\n",
        "def md2(data: bytes) -> bytes:\n",
        "    # Pad to multiple of 16 bytes\n",
        "    pad_len = 16 - (len(data) % 16)\n",
        "    data += bytes([pad_len]) * pad_len\n",
        "\n",
        "    # Compute 16‐byte checksum\n",
        "    L = 0\n",
        "    checksum = bytearray(16)\n",
        "    for i in range(0, len(data)//16):\n",
        "        for j in range(16):\n",
        "            c = data[i*16 +j]\n",
        "            # checksum[j]=S[c ^ L]\n",
        "            # L= checksum[j]\n",
        "            L = checksum[j] ^ S[c ^ L]\n",
        "            checksum[j] = L\n",
        "    data += bytes(checksum)\n",
        "\n",
        "    # Initialize 48‐byte state X\n",
        "    X = [0]*48\n",
        "\n",
        "    #  Process each 16‐byte block\n",
        "    for i in range(0, len(data) // 16):\n",
        "        for j in range(16):\n",
        "            X[16+j] = data[i * 16 + j]\n",
        "            X[32+j] = X[j] ^ X[16+j]\n",
        "\n",
        "        # 18 rounds of permutation\n",
        "        t = 0\n",
        "        for round in range(18):\n",
        "            for k in range(48):\n",
        "                t = X[k] ^ S[t]\n",
        "                X[k] = t\n",
        "            t = (t + round) & 0xFF\n",
        "\n",
        "    #  Output first 16 bytes of state\n",
        "    return bytes(X[:16])\n",
        "\n",
        "\n",
        "if __name__ == \"__main__\":\n",
        "    tests = {\n",
        "        b\"\":           \"8350e5a3e24c153df2275c9f80692773\",\n",
        "        b\"a\":          \"32ec01ec4a6dac72c0ab96fb34c0b5d1\",\n",
        "        b\"abc\":        \"da853b0d3f88d99b30283a69e6ded6bb\",\n",
        "        b\"message digest\": \"ab4f496bfb2a530b219ff33031fe06b0\",\n",
        "        b\"abcdefghijklmnopqrstuvwxyz\": \"4e8ddff3650292ab5a4108c3aa47940b\",\n",
        "    }\n",
        "\n",
        "    for msg, expected in tests.items():\n",
        "        out = md2(msg).hex()\n",
        "        print(f\"{msg!r}: {out}  {'OK' if out==expected else 'FAIL (got '+out+')'}\")\n"
      ]
    },
    {
      "cell_type": "code",
      "execution_count": 11,
      "metadata": {
        "colab": {
          "base_uri": "https://localhost:8080/"
        },
        "id": "ab0op1MD3Zbg",
        "outputId": "3661f79d-ea43-4937-cd03-539c2b46672a"
      },
      "outputs": [
        {
          "name": "stdout",
          "output_type": "stream",
          "text": [
            "\n",
            "Verifying against Crypto.Hash.MD2:\n",
            "'stone': f048d92dc561e9db7e9e0b8db056418c - ✔️ OK\n",
            "'sky': 252f4a5206df02bce3be027e8944dd7e - ✔️ OK\n",
            "'tree': 9dcd1ee6f6c3eeeb6971475f0f6ecd9d - ✔️ OK\n",
            "'healing': eed44e6e6554166626786704eb64284c - ✔️ OK\n",
            "'mountain': 8082e5c3ec54d64a6b6c0ae898e9e95a - ✔️ OK\n",
            "'prasanna': c10b566ba35fcd5255fa56dfe1d20314 - ✔️ OK\n",
            "'sun': 52550b80f7cf7726926a5b8be66404d5 - ✔️ OK\n",
            "'desert': 800631363cd0cfcb950b387dbe0795b5 - ✔️ OK\n",
            "'branch': 30c368734a9f4d3bef7c906d81bf1747 - ✔️ OK\n",
            "'moon': 91aa10590874c834fb4b08fbbaf24ac6 - ✔️ OK\n",
            "'star': 8bd0bd8cd79b2c5569205e2b8f13d4a1 - ✔️ OK\n",
            "'rain': f202834d19387fe79d3b4843f752b750 - ✔️ OK\n",
            "'ash': 97a9c068c7fe4b85286f6d290af68463 - ✔️ OK\n",
            "'pkskakdsjcscocjsdc0ci': fea9280003098e44faee0ded997fc697 - ✔️ OK\n",
            "'flame': 8ba222fdefac9b4254e25c32153e0f53 - ✔️ OK\n",
            "'echo': 273c54f716150ffd9dcd11671e3dc823 - ✔️ OK\n",
            "'fire': 7b0eacc9164c3e63ba470262763bc771 - ✔️ OK\n",
            "'wind': fcc50c368f63fa070de9e35f2e06f241 - ✔️ OK\n",
            "'earth': 2a8a6c645ddf5d628330b3591950ab97 - ✔️ OK\n",
            "'glass': 7547952449a8ff27ec69aa114f232f7d - ✔️ OK\n",
            "'ocean': 0a8879c0221471c47fc7cacc248c7240 - ✔️ OK\n",
            "'ice': 1a5a08eeba37ba966fa5e567c530e778 - ✔️ OK\n",
            "' dkskcskc  5w25@!!@33': 4ec728e0742b14ae8422af733c33f200 - ✔️ OK\n",
            "'snow': cffd8be9288fab9d702c845368980cec - ✔️ OK\n",
            "'storm': 553a96e771346f7da3aa82adc2dd52f5 - ✔️ OK\n"
          ]
        }
      ],
      "source": [
        "from Crypto.Hash import MD2\n",
        "import random\n",
        "words = [\n",
        "    \"sun\", \"moon\", \"sky\", \"river\", \"tree\", \"earth\", \"light\", \"shadow\", \"star\", \"fire\",\n",
        "    \"stone\", \"glass\", \"sand\", \"mountain\", \"cloud\", \"storm\", \"rain\", \"snow\", \"ice\", \"ocean\",\n",
        "    \"wind\", \"desert\", \"leaf\", \"bark\", \"root\", \"branch\", \"petal\", \"flame\", \"ash\", \"echo\",\n",
        "    \"prasanna\",\"healing\"  , \"pkskakdsjcscocjsdc0ci\" ,\"2oe20d0c0cdsd0cad0c d0ak dk \" ,\" dkskcskc  5w25@!!@33\"\n",
        " ]\n",
        "\n",
        "samples = random.sample(words, 25)\n",
        "\n",
        "print(\"\\nVerifying against Crypto.Hash.MD2:\")\n",
        "for word in samples:\n",
        "    my_hash = md2(word.encode()).hex()\n",
        "\n",
        "    h = MD2.new()\n",
        "    h.update(word.encode())\n",
        "    crypto_hash = h.hexdigest()\n",
        "\n",
        "    status = \"✔️ OK\" if my_hash == crypto_hash else f\"❌ FAIL (got {my_hash})\"\n",
        "    print(f\"{word!r}: {crypto_hash} - {status}\")"
      ]
    }
  ],
  "metadata": {
    "colab": {
      "provenance": []
    },
    "kernelspec": {
      "display_name": "Python 3",
      "name": "python3"
    },
    "language_info": {
      "name": "python"
    }
  },
  "nbformat": 4,
  "nbformat_minor": 0
}
