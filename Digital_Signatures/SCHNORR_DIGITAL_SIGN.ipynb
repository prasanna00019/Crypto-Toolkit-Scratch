{
  "cells": [
    {
      "cell_type": "markdown",
      "metadata": {},
      "source": [
        "# 🔐 Schnorr Digital Signature Implementation\n",
        "\n",
        "A Python implementation of the Schnorr digital signature scheme for secure message authentication.\n",
        "\n",
        "## 📋 Overview\n",
        "\n",
        "This implementation provides a complete Schnorr signature system that allows users to:\n",
        "- ✍️ **Sign messages** with cryptographic signatures\n",
        "- ✅ **Verify signatures** to ensure message authenticity\n",
        "- 🔒 **Prevent forgery** through discrete logarithm problem security\n",
        "\n",
        "## 🏗️ Architecture\n",
        "\n",
        "### 🌐 Global Parameters Generation\n",
        "The system generates global public parameters `(a, p, q)` where:\n",
        "- `p` is a large prime number\n",
        "- `q` is a prime factor of `(p-1)`\n",
        "- `a` is a generator such that `a^q ≡ 1 (mod p)`\n",
        "\n",
        "### 🔑 Key Components\n",
        "\n",
        "| Component | Description | Purpose |\n",
        "|-----------|-------------|---------|\n",
        "| `a, p, q` | Global public parameters | Shared by all users |\n",
        "| `s` | Private secret key | Known only to signer |\n",
        "| `v` | Public verification key | `v = a^(-s) mod p` |\n",
        "\n",
        "## 🚀 Usage\n",
        "\n",
        "### Basic Example\n",
        "```python\n",
        "# Sign a message\n",
        "a, v, e, y, p = SCHNORR_SIGN(\"Hello World!\")\n",
        "\n",
        "# Verify the signature\n",
        "is_valid = SCHNORR_VERIFY_SIGNATURE(\"Hello World!\", a, v, e, y, p)\n",
        "print(f\"Signature valid: {is_valid}\")  # Should print: True\n",
        "```\n",
        "\n",
        "### 📝 Message Signing Process\n",
        "\n",
        "```python\n",
        "def SCHNORR_SIGN(Message):\n",
        "    # 1. Generate fresh global parameters\n",
        "    a, p, q = generate_global_public_key()\n",
        "    \n",
        "    # 2. Generate private key\n",
        "    s = random_s(q)\n",
        "    \n",
        "    # 3. Compute public verification key\n",
        "    v = mod_negative_exp(a, s, p)  # v = a^(-s) mod p\n",
        "    \n",
        "    # 4. Generate random nonce\n",
        "    r = random_s(q)\n",
        "    \n",
        "    # 5. Compute commitment\n",
        "    x = mod_exp(a, r, p)  # x = a^r mod p\n",
        "    \n",
        "    # 6. Compute challenge\n",
        "    e = int(sha256(bytes(Message + str(x), 'utf-8')).hexdigest(), 16)\n",
        "    \n",
        "    # 7. Compute response\n",
        "    y = (r % q + (s * e) % q) % q\n",
        "    \n",
        "    return a, v, e, y, p\n",
        "```\n",
        "\n",
        "### ✅ Signature Verification Process\n",
        "\n",
        "```python\n",
        "def SCHNORR_VERIFY_SIGNATURE(Message, a, v, e, y, p):\n",
        "    # 1. Reconstruct commitment\n",
        "    x_dash = (mod_exp(a, y, p) * mod_exp(v, e, p)) % p\n",
        "    \n",
        "    # 2. Compute challenge hash\n",
        "    e_dash = int(sha256(bytes(Message + str(x_dash), 'utf-8')).hexdigest(), 16)\n",
        "    \n",
        "    # 3. Verify challenge matches\n",
        "    return e_dash == e\n",
        "```\n",
        "## 🔒 Security Features\n",
        "\n",
        "### ✨ Cryptographic Strength\n",
        "- **Discrete Logarithm Problem**: Security based on difficulty of computing `s` from `a^s mod p`\n",
        "- **Random Nonce**: Each signature uses a fresh random value `r`\n",
        "- **Hash Integration**: SHA-256 provides collision resistance\n",
        "- **Modular Arithmetic**: All operations performed in finite field\n",
        "\n",
        "### 🛡️ Security Properties\n",
        "- ✅ **Unforgeability**: Cannot create valid signatures without private key\n",
        "- ✅ **Non-repudiation**: Signer cannot deny creating a valid signature  \n",
        "- ✅ **Message Integrity**: Any message modification invalidates signature\n",
        "- ✅ **Randomness**: Each signature is unique due to random nonce\n",
        "\n",
        "## 🧪 Testing\n",
        "\n",
        "### 📊 Comprehensive Test Suite\n",
        "The implementation includes extensive testing:\n",
        "\n",
        "```python\n",
        "# Test with 100,000 random messages\n",
        "schnorr_random_test(100000)\n",
        "# Result: Passed 100000/100000 tests ✅\n",
        "```\n",
        "\n",
        "## 📈 Performance\n",
        "\n",
        "### ⚡ Efficiency Metrics\n",
        "- **Prime Range**: 50-700 (adjustable for security/speed tradeoff)\n",
        "- **Hash Function**: SHA-256 for optimal security\n",
        "- **Modular Exponentiation**: Optimized square-and-multiply algorithm\n",
        "- **Random Generation**: Cryptographically secure random number generation\n",
        "\n",
        "### 🔄 Algorithm Flow\n",
        "1. **Setup Phase**: Generate global parameters `(a, p, q)`\n",
        "2. **Key Generation**: Create private key `s` and public key `v`\n",
        "3. **Signing Phase**: Generate signature `(e, y)` for message\n",
        "4. **Verification Phase**: Validate signature against message\n",
        "\n",
        "### 🔢 Security Assumption\n",
        "The security relies on the **Discrete Logarithm Problem**: Given `g^x mod p`, it's computationally infeasible to find `x`.\n",
        "\n",
        "---\n",
        "## 📖 References\n",
        "\n",
        "- **Schnorr Signature Scheme** (Claus Schnorr, 1989)\n",
        "- **Discrete Logarithm Problem** in cryptography\n",
        "- **Digital Signature Standard** (DSS) specifications\n",
        "\n",
        "---"
      ]
    },
    {
      "cell_type": "code",
      "execution_count": 2,
      "metadata": {
        "id": "bubATgCgJazc"
      },
      "outputs": [],
      "source": [
        "import random\n",
        "\n",
        "def is_prime_simple(n):\n",
        "    if n < 2:\n",
        "        return False\n",
        "    if n == 2:\n",
        "        return True\n",
        "    if n % 2 == 0:\n",
        "        return False\n",
        "    for i in range(3, int(n**0.5) + 1, 2):\n",
        "        if n % i == 0:\n",
        "            return False\n",
        "    return True\n",
        "\n",
        "def get_prime_factors(n):\n",
        "    factors = []\n",
        "    d = 2\n",
        "    while n % 2 == 0:\n",
        "        n //= 2\n",
        "    d = 3\n",
        "    while d * d <= n:\n",
        "        while n % d == 0:\n",
        "            factors.append(d)\n",
        "            n //= d\n",
        "        d += 2\n",
        "    if n > 2:\n",
        "        factors.append(n)\n",
        "\n",
        "    unique_factors = []\n",
        "    for f in set(factors):\n",
        "        if is_prime_simple(f):\n",
        "            unique_factors.append(f)\n",
        "    return unique_factors\n",
        "\n",
        "\n",
        "def find_a_such_that_aq_equals_1_mod_p(p, q):\n",
        "    valid_a_values = []\n",
        "    for a in range(2, p):\n",
        "        if pow(a, q, p) == 1:\n",
        "            valid_a_values.append(a)\n",
        "    if valid_a_values:\n",
        "        return random.choice(valid_a_values)\n",
        "    return None\n",
        "\n",
        "def generate_global_public_key():\n",
        "    prime_candidates = []\n",
        "    for p in range(50, 700):\n",
        "        if is_prime_simple(p):\n",
        "            prime_factors = get_prime_factors(p - 1)\n",
        "            if prime_factors:\n",
        "                prime_candidates.append(p)\n",
        "\n",
        "    random.shuffle(prime_candidates)\n",
        "    for p in prime_candidates:\n",
        "        prime_factors = get_prime_factors(p - 1)\n",
        "        if prime_factors:\n",
        "            q = random.choice(prime_factors)\n",
        "            break\n",
        "    a = find_a_such_that_aq_equals_1_mod_p(p, q)\n",
        "    return a, p, q\n",
        "a, p ,q = generate_global_public_key()\n",
        "# print(a,p,q)"
      ]
    },
    {
      "cell_type": "code",
      "execution_count": 3,
      "metadata": {
        "id": "Pv43vH6QNI1P"
      },
      "outputs": [],
      "source": [
        "def extended_gcd(a, b):\n",
        "    if a == 0:\n",
        "        return b, 0, 1\n",
        "    gcd, x1, y1 = extended_gcd(b % a, a)\n",
        "    x = y1 - (b // a) * x1\n",
        "    y = x1\n",
        "\n",
        "    return gcd, x, y\n",
        "def mod_inverse(a, p):\n",
        "    gcd, x, _ = extended_gcd(a, p)\n",
        "\n",
        "    if gcd != 1:\n",
        "        raise ValueError(f\"Modular inverse does not exist for {a} mod {p}\")\n",
        "    return (x % p + p) % p\n",
        "\n",
        "def mod_negative_exp(a, s, p):\n",
        "    a_inverse = mod_inverse(a, p)\n",
        "    result = pow(a_inverse, s, p)\n",
        "    return result"
      ]
    },
    {
      "cell_type": "code",
      "execution_count": 4,
      "metadata": {
        "colab": {
          "base_uri": "https://localhost:8080/"
        },
        "id": "LbelxUKEP2Vk",
        "outputId": "e949c057-ab61-4605-bdaa-3d00bac9dd22"
      },
      "outputs": [],
      "source": [
        "import secrets\n",
        "\n",
        "def random_s(q):\n",
        "    return secrets.randbelow(q)\n",
        "s=random_s(q)"
      ]
    },
    {
      "cell_type": "code",
      "execution_count": 5,
      "metadata": {
        "id": "cQFi6kc0Q-2f"
      },
      "outputs": [],
      "source": [
        "def mod_exp(x, y, p):\n",
        "    result = 1\n",
        "    x = x % p  \n",
        "\n",
        "    while y > 0:\n",
        "        if y & 1:           # if y is odd\n",
        "            result = (result * x) % p\n",
        "        y >>= 1             # divide y by 2\n",
        "        x = (x * x) % p     # square base\n",
        "\n",
        "    return result\n"
      ]
    },
    {
      "cell_type": "code",
      "execution_count": 6,
      "metadata": {
        "id": "3GH2p6z4SPf3"
      },
      "outputs": [],
      "source": [
        "from hashlib import sha256\n",
        "def SCHNORR_SIGN(Message):\n",
        "  a, p ,q = generate_global_public_key()\n",
        "  s = random_s(q)\n",
        "  v=mod_negative_exp(a,s,p)\n",
        "  r = random_s(q)\n",
        "  x = mod_exp(a,r,p)\n",
        "  # M=Message + str(x)\n",
        "  e= int(sha256(bytes(Message + str(x), 'utf-8')).hexdigest(),16)\n",
        "  y=(r % q + (s * e)%q) % q\n",
        "  return a , v ,e , y , p"
      ]
    },
    {
      "cell_type": "code",
      "execution_count": 7,
      "metadata": {
        "id": "jF2cH6JiT3WO"
      },
      "outputs": [],
      "source": [
        "def SCHNORR_VERIFY_SIGNATURE(Message , a , v ,e , y,p):\n",
        "  x_dash=(mod_exp(a,y,p) * mod_exp(v,e,p)) % p\n",
        "  # M=Message + str(x_dash)\n",
        "  e_dash= int(sha256(bytes(Message + str(x_dash), 'utf-8')).hexdigest(),16)\n",
        "  return e_dash == e"
      ]
    },
    {
      "cell_type": "code",
      "execution_count": 8,
      "metadata": {
        "colab": {
          "base_uri": "https://localhost:8080/"
        },
        "id": "Jrhu3sM3U5cH",
        "outputId": "7a5f1550-bfec-4c52-b723-f19229b5fcca"
      },
      "outputs": [
        {
          "name": "stdout",
          "output_type": "stream",
          "text": [
            "True\n"
          ]
        }
      ],
      "source": [
        "a , v , e , y,p = SCHNORR_SIGN('HI ,SEND ME 10000 RUPPESS. VERIFY THIS SIGNATURE TO KNOW THAT THIS IS ME ')\n",
        "print(SCHNORR_VERIFY_SIGNATURE('HI ,SEND ME 10000 RUPPESS. VERIFY THIS SIGNATURE TO KNOW THAT THIS IS ME ',a,v,e,y,p))"
      ]
    },
    {
      "cell_type": "code",
      "execution_count": 11,
      "metadata": {
        "colab": {
          "base_uri": "https://localhost:8080/"
        },
        "id": "xNtNA_tYWAWB",
        "outputId": "015a09e8-4b0f-4f99-b694-2225b06d8d63"
      },
      "outputs": [
        {
          "name": "stdout",
          "output_type": "stream",
          "text": [
            "Passed 100000/100000 tests.\n"
          ]
        }
      ],
      "source": [
        "import secrets\n",
        "import string\n",
        "\n",
        "def random_message(min_len=10, max_len=100):\n",
        "    length = secrets.randbelow(max_len - min_len + 1) + min_len\n",
        "    alphabet = string.ascii_letters + string.digits + string.punctuation + \" \"\n",
        "    return ''.join(secrets.choice(alphabet) for _ in range(length))\n",
        "\n",
        "def schnorr_random_test(num_tests=60):\n",
        "    passes = 0\n",
        "    for i in range(num_tests):\n",
        "        msg = random_message()\n",
        "        a, v, e, y, p = SCHNORR_SIGN(msg)\n",
        "        valid = SCHNORR_VERIFY_SIGNATURE(msg, a, v, e, y, p)\n",
        "        if valid:\n",
        "            passes += 1\n",
        "        else:\n",
        "            print(f\"Test {i+1} failed! Message: {msg}\")\n",
        "    print(f\"Passed {passes}/{num_tests} tests.\")\n",
        "\n",
        "schnorr_random_test(100000)\n"
      ]
    }
  ],
  "metadata": {
    "colab": {
      "provenance": []
    },
    "kernelspec": {
      "display_name": "Python 3",
      "name": "python3"
    },
    "language_info": {
      "codemirror_mode": {
        "name": "ipython",
        "version": 3
      },
      "file_extension": ".py",
      "mimetype": "text/x-python",
      "name": "python",
      "nbconvert_exporter": "python",
      "pygments_lexer": "ipython3",
      "version": "3.13.2"
    }
  },
  "nbformat": 4,
  "nbformat_minor": 0
}
